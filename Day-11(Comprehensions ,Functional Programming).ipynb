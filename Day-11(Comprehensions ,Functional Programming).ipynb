{
 "cells": [
  {
   "cell_type": "markdown",
   "metadata": {},
   "source": [
    "## Calculator\n",
    "1.WAP To print Arithematic Operations like calculator\n",
    "\n",
    "print(\"1.ADD\")\n",
    "print(\"2.SUB\")\n",
    "print(\"3.MUL\")\n",
    "\n",
    "choices=int(input(\"Choose your choice 1 or 2 or 3 ....\"))"
   ]
  },
  {
   "cell_type": "code",
   "execution_count": null,
   "metadata": {},
   "outputs": [],
   "source": []
  },
  {
   "cell_type": "code",
   "execution_count": 14,
   "metadata": {},
   "outputs": [
    {
     "name": "stdout",
     "output_type": "stream",
     "text": [
      "Welcome to calculator program choose the below options to perform mathemations operations\n",
      "1.ADD\n",
      "2.SUB\n",
      "3.MUL\n",
      "4.DIV\n",
      "5.MODDIV\n",
      "6.POW\n",
      "7.FLOORDIV\n",
      "enter the number u want 1 or 2 or 3 or 4 or 5 or 6 or 7   : 1\n",
      "Enter the num1 value3\n",
      "enter num2 value5\n",
      "Addition of 3 + 5 = 8\n"
     ]
    }
   ],
   "source": [
    "print(\"Welcome to calculator program choose the below options to perform mathemations operations\")\n",
    "print(\"1.ADD\")\n",
    "print(\"2.SUB\")\n",
    "print(\"3.MUL\")\n",
    "print(\"4.DIV\")\n",
    "print(\"5.MODDIV\")\n",
    "print(\"6.POW\")\n",
    "print(\"7.FLOORDIV\")\n",
    "\n",
    "\n",
    "choices=int(input(\"enter the number u want 1 or 2 or 3 or 4 or 5 or 6 or 7   : \"))\n",
    "\n",
    "\n",
    "num1=int(input(\"Enter the num1 value\"))\n",
    "num2=int(input(\"enter num2 value\"))\n",
    "\n",
    "\n",
    "def add(num1,num2):\n",
    "    print(\"Addition of\" ,num1 ,\"+\" , num2 ,\"=\" ,num1+num2)\n",
    "\n",
    "\n",
    "\n",
    "def sub(num1,num2):\n",
    "    print(\"subtraction of\" ,num1 ,\"-\" , num2 ,\"=\" ,num1-num2)\n",
    "    \n",
    "\n",
    "\n",
    "def mul(num1,num2):\n",
    "    print(\"multiplication of\" ,num1 ,\"*\" , num2 ,\"=\" ,num1*num2)\n",
    "    \n",
    "\n",
    "\n",
    "\n",
    "\n",
    "\n",
    "\n",
    "\n",
    "if choices==1:\n",
    "    add(num1,num2)\n",
    "    \n",
    "    \n",
    "if choices==2:\n",
    "    sub(num1,num2)\n",
    "    \n",
    "    \n",
    "if choices==3:\n",
    "    mul(num1,num2)\n",
    "    \n",
    "\n",
    "\n",
    "\n",
    "\n",
    "\n"
   ]
  },
  {
   "cell_type": "code",
   "execution_count": null,
   "metadata": {},
   "outputs": [],
   "source": [
    "### Comprehensions\n",
    "\n",
    "\n",
    "- We have two types of comprehensions\n",
    "    - list Comprehension\n",
    "       syn: [output    inputsequence  conditions/loops]\n",
    "    - Dictionary Comprehension\n",
    "       syn:  {output   condition check}\n",
    "            \n",
    "            \n",
    "\n",
    "    \n",
    "    "
   ]
  },
  {
   "cell_type": "code",
   "execution_count": null,
   "metadata": {},
   "outputs": [],
   "source": []
  },
  {
   "cell_type": "code",
   "execution_count": 15,
   "metadata": {},
   "outputs": [
    {
     "name": "stdout",
     "output_type": "stream",
     "text": [
      "Lower2\n",
      "upper20\n",
      "[2, 3, 4, 5, 6, 7, 8, 9, 10, 11, 12, 13, 14, 15, 16, 17, 18, 19, 20]\n"
     ]
    }
   ],
   "source": [
    "# normal\n",
    "\n",
    "li=[]\n",
    "start,stop=int(input(\"Lower\")),int(input(\"upper\"))\n",
    "for num in range(start,stop+1):\n",
    "    li.append(num)\n",
    "print(li)"
   ]
  },
  {
   "cell_type": "code",
   "execution_count": 21,
   "metadata": {},
   "outputs": [
    {
     "name": "stdout",
     "output_type": "stream",
     "text": [
      "5\n",
      "10\n",
      "5\n",
      "6\n",
      "7\n",
      "8\n",
      "9\n",
      "10\n"
     ]
    }
   ],
   "source": [
    "# with using list comparision\n",
    "\n",
    "licom=[print(num)  for num in range(int(input()),int(input())+1)]\n"
   ]
  },
  {
   "cell_type": "code",
   "execution_count": 22,
   "metadata": {},
   "outputs": [
    {
     "name": "stdout",
     "output_type": "stream",
     "text": [
      "[2, 4, 8, 2, 4, 6, 8, 6, 4, 2, 6]\n"
     ]
    }
   ],
   "source": [
    "## even number normal for loop\n",
    "\n",
    "list1=[2,4,65,7,8,9,1,2,3,4,5,5,6,3,8,6,4,2,6]\n",
    "even=[]\n",
    "for i in list1:\n",
    "    if i%2==0:\n",
    "        even.append(i)\n",
    "        \n",
    "print(even)"
   ]
  },
  {
   "cell_type": "code",
   "execution_count": 23,
   "metadata": {},
   "outputs": [
    {
     "name": "stdout",
     "output_type": "stream",
     "text": [
      "[2, 4, 8, 2, 4, 6, 8, 6, 4, 2, 6]\n"
     ]
    }
   ],
   "source": [
    "## list comparision\n",
    "\n",
    "list2=[2,4,65,7,8,9,1,2,3,4,5,5,6,3,8,6,4,2,6]\n",
    "even1=[i for i in list2  if i%2==0]\n",
    "print(even1)"
   ]
  },
  {
   "cell_type": "code",
   "execution_count": null,
   "metadata": {},
   "outputs": [],
   "source": [
    "# [EVEN,EVEN ,65,7,8,9,1,2,3,4,5,5,6,3,8,6,4,2,6]"
   ]
  },
  {
   "cell_type": "code",
   "execution_count": null,
   "metadata": {},
   "outputs": [],
   "source": []
  },
  {
   "cell_type": "code",
   "execution_count": 24,
   "metadata": {},
   "outputs": [
    {
     "ename": "SyntaxError",
     "evalue": "invalid syntax (<ipython-input-24-31d548a0edd6>, line 1)",
     "output_type": "error",
     "traceback": [
      "\u001b[1;36m  File \u001b[1;32m\"<ipython-input-24-31d548a0edd6>\"\u001b[1;36m, line \u001b[1;32m1\u001b[0m\n\u001b[1;33m    [I for I in list even if(i%2==0)else odd]\u001b[0m\n\u001b[1;37m                        ^\u001b[0m\n\u001b[1;31mSyntaxError\u001b[0m\u001b[1;31m:\u001b[0m invalid syntax\n"
     ]
    }
   ],
   "source": [
    "[I for I in list even if(i%2==0)else odd]"
   ]
  },
  {
   "cell_type": "code",
   "execution_count": 25,
   "metadata": {},
   "outputs": [
    {
     "name": "stdout",
     "output_type": "stream",
     "text": [
      "['EVEN', 'EVEN', 65, 7, 'EVEN', 9, 1, 'EVEN', 3, 'EVEN', 5, 5, 'EVEN', 3, 'EVEN', 'EVEN', 'EVEN', 'EVEN', 'EVEN']\n"
     ]
    }
   ],
   "source": [
    "list2=[2,4,65,7,8,9,1,2,3,4,5,5,6,3,8,6,4,2,6]\n",
    "even1=[i if i%2!=0 else \"EVEN\" for i in list2 ]\n",
    "print(even1)"
   ]
  },
  {
   "cell_type": "code",
   "execution_count": 26,
   "metadata": {},
   "outputs": [
    {
     "ename": "SyntaxError",
     "evalue": "invalid syntax (<ipython-input-26-228ecf0e7d32>, line 1)",
     "output_type": "error",
     "traceback": [
      "\u001b[1;36m  File \u001b[1;32m\"<ipython-input-26-228ecf0e7d32>\"\u001b[1;36m, line \u001b[1;32m1\u001b[0m\n\u001b[1;33m    eg=[I for I in list2 \"even\" if(i%2==0) else \"odd\"]\u001b[0m\n\u001b[1;37m                              ^\u001b[0m\n\u001b[1;31mSyntaxError\u001b[0m\u001b[1;31m:\u001b[0m invalid syntax\n"
     ]
    }
   ],
   "source": [
    "eg=[I for I in list2 \"even\" if(i%2==0) else \"odd\"]\n",
    "eg"
   ]
  },
  {
   "cell_type": "code",
   "execution_count": 27,
   "metadata": {},
   "outputs": [
    {
     "name": "stdout",
     "output_type": "stream",
     "text": [
      "['EVEN', 'EVEN', 'ODD', 'ODD', 'EVEN', 'ODD', 'ODD', 'EVEN', 'ODD', 'EVEN', 'ODD', 'ODD', 'EVEN', 'ODD', 'EVEN', 'EVEN', 'EVEN', 'EVEN', 'EVEN']\n"
     ]
    }
   ],
   "source": [
    "list2=[2,4,65,7,8,9,1,2,3,4,5,5,6,3,8,6,4,2,6]\n",
    "even1=[\"ODD\" if i%2!=0 else \"EVEN\" for i in list2 ]\n",
    "print(even1)"
   ]
  },
  {
   "cell_type": "code",
   "execution_count": null,
   "metadata": {},
   "outputs": [],
   "source": [
    "range(1,10) ---->[1,2,3,4,5,6,7,8,9,10]\n",
    "[1,4,9,16,25.....]"
   ]
  },
  {
   "cell_type": "code",
   "execution_count": 30,
   "metadata": {},
   "outputs": [
    {
     "data": {
      "text/plain": [
       "[1, 4, 9, 16, 25, 36, 49, 64, 81]"
      ]
     },
     "execution_count": 30,
     "metadata": {},
     "output_type": "execute_result"
    }
   ],
   "source": [
    "[(I*I) for I in range(1,10)]"
   ]
  },
  {
   "cell_type": "code",
   "execution_count": 32,
   "metadata": {},
   "outputs": [
    {
     "name": "stdout",
     "output_type": "stream",
     "text": [
      "[2, 3, 4, 5, 6, 7, 8, 9, 10, 3, 4, 5, 6, 7, 8, 9, 10, 11, 4, 5, 6, 7, 8, 9, 10, 11, 12, 5, 6, 7, 8, 9, 10, 11, 12, 13, 6, 7, 8, 9, 10, 11, 12, 13, 14, 7, 8, 9, 10, 11, 12, 13, 14, 15, 8, 9, 10, 11, 12, 13, 14, 15, 16, 9, 10, 11, 12, 13, 14, 15, 16, 17, 10, 11, 12, 13, 14, 15, 16, 17, 18] "
     ]
    }
   ],
   "source": [
    "print([(I+J) for I in range(1,10) for J in range(1,10)],end=\" \")"
   ]
  },
  {
   "cell_type": "markdown",
   "metadata": {},
   "source": [
    "### Dictionary comprehension\n",
    "- {key:value}"
   ]
  },
  {
   "cell_type": "code",
   "execution_count": 33,
   "metadata": {},
   "outputs": [
    {
     "name": "stdout",
     "output_type": "stream",
     "text": [
      "{1, 2, 3, 4, 5, 6, 7, 8, 9, 10}\n"
     ]
    }
   ],
   "source": [
    "mydict={i  for i in range(1,11)}\n",
    "print(mydict)"
   ]
  },
  {
   "cell_type": "code",
   "execution_count": 34,
   "metadata": {},
   "outputs": [
    {
     "name": "stdout",
     "output_type": "stream",
     "text": [
      "<class 'set'>\n"
     ]
    }
   ],
   "source": [
    "print(type(mydict))"
   ]
  },
  {
   "cell_type": "code",
   "execution_count": 35,
   "metadata": {},
   "outputs": [
    {
     "name": "stdout",
     "output_type": "stream",
     "text": [
      "{1: 1, 2: 2, 3: 3, 4: 4, 5: 5, 6: 6, 7: 7, 8: 8, 9: 9, 10: 10}\n"
     ]
    }
   ],
   "source": [
    "# In dictionary \n",
    "mydict={i:i  for i in range(1,11)}\n",
    "print(mydict)"
   ]
  },
  {
   "cell_type": "code",
   "execution_count": 36,
   "metadata": {},
   "outputs": [
    {
     "name": "stdout",
     "output_type": "stream",
     "text": [
      "{1: 1, 2: 4, 3: 9, 4: 16, 5: 25, 6: 36, 7: 49, 8: 64, 9: 81, 10: 100}\n"
     ]
    }
   ],
   "source": [
    "mydict={i:i*i  for i in range(1,11)}\n",
    "print(mydict)"
   ]
  },
  {
   "cell_type": "code",
   "execution_count": 37,
   "metadata": {},
   "outputs": [
    {
     "name": "stdout",
     "output_type": "stream",
     "text": [
      "{'5A2': 'Ganesh', '543': 'Prudhvi', '5A8': 'Lakshmi', '5A9': 'Lavanya'}\n",
      "<class 'dict'>\n"
     ]
    }
   ],
   "source": [
    "# zip\n",
    "\n",
    "rolno=[\"5A2\",\"543\",\"5A8\",\"5A9\"]\n",
    "names=[\"Ganesh\",\"Prudhvi\",\"Lakshmi\",\"Lavanya\"]\n",
    "\n",
    "dicti={}\n",
    "for(key,value) in zip(rolno,names):\n",
    "    dicti[key]=value\n",
    "    \n",
    "print(dicti)\n",
    "print(type(dicti))"
   ]
  },
  {
   "cell_type": "code",
   "execution_count": 38,
   "metadata": {},
   "outputs": [
    {
     "data": {
      "text/plain": [
       "dict_keys(['5A2', '543', '5A8', '5A9'])"
      ]
     },
     "execution_count": 38,
     "metadata": {},
     "output_type": "execute_result"
    }
   ],
   "source": [
    "dicti.keys()"
   ]
  },
  {
   "cell_type": "code",
   "execution_count": 39,
   "metadata": {},
   "outputs": [
    {
     "data": {
      "text/plain": [
       "dict_values(['Ganesh', 'Prudhvi', 'Lakshmi', 'Lavanya'])"
      ]
     },
     "execution_count": 39,
     "metadata": {},
     "output_type": "execute_result"
    }
   ],
   "source": [
    "dicti.values()"
   ]
  },
  {
   "cell_type": "code",
   "execution_count": 40,
   "metadata": {},
   "outputs": [
    {
     "data": {
      "text/plain": [
       "dict_items([('5A2', 'Ganesh'), ('543', 'Prudhvi'), ('5A8', 'Lakshmi'), ('5A9', 'Lavanya')])"
      ]
     },
     "execution_count": 40,
     "metadata": {},
     "output_type": "execute_result"
    }
   ],
   "source": [
    "dicti.items()"
   ]
  },
  {
   "cell_type": "markdown",
   "metadata": {},
   "source": [
    "## Generator comprehension"
   ]
  },
  {
   "cell_type": "code",
   "execution_count": 45,
   "metadata": {},
   "outputs": [
    {
     "name": "stdout",
     "output_type": "stream",
     "text": [
      "<generator object <genexpr> at 0x000002962C6C7C00>\n",
      "81\n",
      "49\n",
      "25\n",
      "16\n",
      "9\n",
      "1\n"
     ]
    }
   ],
   "source": [
    "list1=[9,7,5,4,3,1]\n",
    "a=(i*i for i in list1)\n",
    "print(a)\n",
    "\n",
    "for i in a:\n",
    "    print(i)"
   ]
  },
  {
   "cell_type": "markdown",
   "metadata": {},
   "source": [
    "## Functional Programming\n",
    "\n",
    "- Iterators\n",
    "- Generators\n",
    "- map\n",
    "- filter\n",
    "- lambda\n",
    "- reduce"
   ]
  },
  {
   "cell_type": "markdown",
   "metadata": {},
   "source": [
    "## Lambda\n",
    "\n",
    "- The lambda is a operator or a lambda function is a way to create small ananymous function i.e.., function without a name\n",
    "- Lambda is a combination of maps(),filter(),reduce\n",
    "- syn\n",
    "    - lambda arg1 arg2 arg3.....:exp"
   ]
  },
  {
   "cell_type": "code",
   "execution_count": 46,
   "metadata": {},
   "outputs": [
    {
     "data": {
      "text/plain": [
       "8"
      ]
     },
     "execution_count": 46,
     "metadata": {},
     "output_type": "execute_result"
    }
   ],
   "source": [
    "# normal function\n",
    "\n",
    "def add(a,b):\n",
    "    z=a+b\n",
    "    return(z)\n",
    "\n",
    "add(3,5)\n",
    "    "
   ]
  },
  {
   "cell_type": "code",
   "execution_count": 47,
   "metadata": {},
   "outputs": [
    {
     "data": {
      "text/plain": [
       "function"
      ]
     },
     "execution_count": 47,
     "metadata": {},
     "output_type": "execute_result"
    }
   ],
   "source": [
    "type(add)"
   ]
  },
  {
   "cell_type": "code",
   "execution_count": 48,
   "metadata": {},
   "outputs": [
    {
     "data": {
      "text/plain": [
       "8"
      ]
     },
     "execution_count": 48,
     "metadata": {},
     "output_type": "execute_result"
    }
   ],
   "source": [
    "## With using lambda\n",
    "\n",
    "a=lambda x,y:x+y\n",
    "a(3,5)\n"
   ]
  },
  {
   "cell_type": "code",
   "execution_count": 49,
   "metadata": {},
   "outputs": [
    {
     "data": {
      "text/plain": [
       "function"
      ]
     },
     "execution_count": 49,
     "metadata": {},
     "output_type": "execute_result"
    }
   ],
   "source": [
    "type(a)"
   ]
  },
  {
   "cell_type": "markdown",
   "metadata": {},
   "source": [
    "## map()\n",
    "- It aplies a given function to all iterables and create a new list\n",
    "- syn:\n",
    "    - map(funname,[iterables],[iter2]............)"
   ]
  },
  {
   "cell_type": "code",
   "execution_count": 50,
   "metadata": {},
   "outputs": [
    {
     "name": "stdout",
     "output_type": "stream",
     "text": [
      "<map object at 0x000002962C73EDA0>\n"
     ]
    }
   ],
   "source": [
    "def mul(z):\n",
    "    return z*z\n",
    "m=map(mul,[1,2,3,4,5,6,7,8,9])\n",
    "print(m)"
   ]
  },
  {
   "cell_type": "code",
   "execution_count": 51,
   "metadata": {},
   "outputs": [
    {
     "name": "stdout",
     "output_type": "stream",
     "text": [
      "[1, 4, 9, 16, 25, 36, 49, 64, 81]\n"
     ]
    }
   ],
   "source": [
    "def mul(z):\n",
    "    return z*z\n",
    "m=map(mul,[1,2,3,4,5,6,7,8,9])\n",
    "print(list(m))"
   ]
  },
  {
   "cell_type": "code",
   "execution_count": 53,
   "metadata": {},
   "outputs": [
    {
     "name": "stdout",
     "output_type": "stream",
     "text": [
      "(1, 4, 9, 16, 25, 36, 49, 64, 81)\n"
     ]
    }
   ],
   "source": [
    "def mul(z):\n",
    "    return z*z\n",
    "m=map(mul,(1,2,3,4,5,6,7,8,9))\n",
    "print(tuple(m))"
   ]
  },
  {
   "cell_type": "code",
   "execution_count": 54,
   "metadata": {},
   "outputs": [
    {
     "name": "stdout",
     "output_type": "stream",
     "text": [
      "(1, 4, 9, 16, 25, 36, 49, 64, 81)\n"
     ]
    }
   ],
   "source": [
    "def mul(z):\n",
    "    return z*z\n",
    "m=map(mul,[1,2,3,4,5,6,7,8,9])\n",
    "print(tuple(m))"
   ]
  },
  {
   "cell_type": "code",
   "execution_count": 56,
   "metadata": {},
   "outputs": [
    {
     "name": "stdout",
     "output_type": "stream",
     "text": [
      "['APSSDC', 'VEMU COLLEGE', 'INDU', 'PRIYA', 'SIDDU']\n"
     ]
    }
   ],
   "source": [
    "task1=[\"APSSDC\",\"vemu College\",\"indu\",\"Priya\",\"SIddu\"]\n",
    "# change these list of vALUWS into uppercase with using map\n",
    "\n",
    "result=map(str.upper,task1)\n",
    "print(list(result))"
   ]
  },
  {
   "cell_type": "code",
   "execution_count": null,
   "metadata": {},
   "outputs": [],
   "source": []
  }
 ],
 "metadata": {
  "kernelspec": {
   "display_name": "Python 3",
   "language": "python",
   "name": "python3"
  },
  "language_info": {
   "codemirror_mode": {
    "name": "ipython",
    "version": 3
   },
   "file_extension": ".py",
   "mimetype": "text/x-python",
   "name": "python",
   "nbconvert_exporter": "python",
   "pygments_lexer": "ipython3",
   "version": "3.7.3"
  }
 },
 "nbformat": 4,
 "nbformat_minor": 2
}
