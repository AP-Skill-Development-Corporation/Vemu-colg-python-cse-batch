{
 "cells": [
  {
   "cell_type": "markdown",
   "metadata": {},
   "source": [
    "## Literate Programming :\n",
    "\n",
    "- This markdown format is designed by HTML so It supported all HTML also\n",
    "- both combination of Coding and Documentation\n",
    "\n",
    "\n",
    "- To run the \n",
    "    - ctrl+ enter\n",
    "    - shift+enter\n",
    "- To change cell code to markdown\n",
    "    - esc+m\n",
    "- to chane the cell marldown to code\n",
    "    - esc+y\n",
    "    \n",
    "- to show the keyboard short cuts\n",
    "    - esc+h\n",
    "    \n",
    "    \n",
    "- [Markdown Cheatsheet Link](https://www.markdownguide.org/cheat-sheet/)"
   ]
  },
  {
   "cell_type": "markdown",
   "metadata": {},
   "source": [
    "## Differences between anaconda and IDLE\n",
    "\n",
    "- Python’s PyCharm is an IDE, anaconda is a set of libraries or distribution of various libraries packed into one.\n",
    "- Anaconda is professional data science platform and python IDE’s where we can use as console as well as GUI .\n",
    "\n",
    "\n",
    "### Adv Anaconda\n",
    "\n",
    "\n",
    "\n",
    "- User level install of the version of python you want\n",
    "- Able to install/update packages completely independent of system libraries or admin privileges\n",
    "- More or less eliminates the headaches of trying to figure out which version/release of package X is compatible with which version/release of package Y, both of which are required for the install of package Z\n",
    "- Comes either in full-meal-deal version, with numpy, scipy, PyQt, spyder IDE, etc. or in minimal / alacarte version (miniconda) where you can install what you want, when you need it\n",
    "- No risk of messing up required system libraries\n",
    "\n",
    "\n"
   ]
  },
  {
   "cell_type": "code",
   "execution_count": 1,
   "metadata": {
    "scrolled": true
   },
   "outputs": [
    {
     "name": "stdout",
     "output_type": "stream",
     "text": [
      "Hello guys ,Welcome to python online Programming\n"
     ]
    }
   ],
   "source": [
    "print(\"Hello guys ,Welcome to python online Programming\")"
   ]
  },
  {
   "cell_type": "markdown",
   "metadata": {},
   "source": [
    "a=10 ; b=20 ;c=a+b\n",
    "c  markdown"
   ]
  },
  {
   "cell_type": "code",
   "execution_count": 4,
   "metadata": {},
   "outputs": [
    {
     "data": {
      "text/plain": [
       "30"
      ]
     },
     "execution_count": 4,
     "metadata": {},
     "output_type": "execute_result"
    }
   ],
   "source": [
    "a=10 ; b=20 ;c=a+b\n",
    "c  # python code"
   ]
  },
  {
   "cell_type": "markdown",
   "metadata": {},
   "source": [
    "- Print() function\n",
    "\n",
    "- Python allows both single and double quotes to execute\n",
    "\n"
   ]
  },
  {
   "cell_type": "code",
   "execution_count": 11,
   "metadata": {},
   "outputs": [
    {
     "name": "stdout",
     "output_type": "stream",
     "text": [
      "hello\n",
      "hello\n"
     ]
    }
   ],
   "source": [
    "print(\"hello\")\n",
    "print('hello')"
   ]
  },
  {
   "cell_type": "code",
   "execution_count": null,
   "metadata": {},
   "outputs": [],
   "source": []
  },
  {
   "cell_type": "markdown",
   "metadata": {},
   "source": [
    "## Comments in Python\n",
    "\n"
   ]
  },
  {
   "cell_type": "markdown",
   "metadata": {},
   "source": [
    "- When executing a program, the Python interpreter ignores the comments and only interprets the code.\n",
    "\n",
    "\n",
    "- Comments in Python begin with a hash mark (#) and whitespace character and continue to the end of the line\n",
    "\n",
    "(# This is a single line comment in python)\n",
    "- Because comments do not execute, when you run a program you will not see any indication of the comment there. Comments are in the source code for humans to read, not for computers to execute.\n",
    "\n",
    "- In a “Hello, World!” program, a comment may look like this:\n",
    "\n",
    "- Python provides three kinds of comments including block comment, inline comment, and documentation string.\n",
    "\n",
    "    - Block comment\n",
    "    - Inline Comment\n",
    "    - doc string\n",
    "    - Multiline comments\n",
    "    \n",
    "    \n",
    " \n",
    " \n",
    " \n",
    " \n",
    "    \n",
    "    \n",
    " "
   ]
  },
  {
   "cell_type": "code",
   "execution_count": 15,
   "metadata": {},
   "outputs": [
    {
     "data": {
      "text/plain": [
       "' increase salary base on rating and percentage\\n    rating 1 - 2 no increase\\n    rating 3 - 4 increase 5%\\n    rating 4 - 6 increase 10%\\n    '"
      ]
     },
     "execution_count": 15,
     "metadata": {},
     "output_type": "execute_result"
    }
   ],
   "source": [
    "# Ex of multiline comments\n",
    "\"\"\" increase salary base on rating and percentage\n",
    "    rating 1 - 2 no increase\n",
    "    rating 3 - 4 increase 5%\n",
    "    rating 4 - 6 increase 10%\n",
    "    \"\"\""
   ]
  },
  {
   "cell_type": "code",
   "execution_count": 14,
   "metadata": {},
   "outputs": [
    {
     "data": {
      "text/plain": [
       "' sort the list using quicksort algorithm '"
      ]
     },
     "execution_count": 14,
     "metadata": {},
     "output_type": "execute_result"
    }
   ],
   "source": [
    "# Ex of docstring\n",
    " \n",
    "\"\"\" sort the list using quicksort algorithm \"\"\""
   ]
  },
  {
   "cell_type": "markdown",
   "metadata": {},
   "source": [
    "## Markdown"
   ]
  },
  {
   "cell_type": "markdown",
   "metadata": {},
   "source": [
    "# Heading (  #   - ###### )"
   ]
  },
  {
   "cell_type": "markdown",
   "metadata": {},
   "source": [
    "# Heading\n",
    "## Heading\n",
    "### Heading\n",
    "#### Heading\n",
    "##### Heading\n",
    "###### Heading\n",
    "####### Heading\n",
    "\n",
    "\n",
    "\n",
    "<h1>HTML tag1</h1>\n",
    "<h2>HTML tag1</h2>\n",
    "<h3>HTML tag1</h3>\n",
    "<h4>HTML tag1</h4>\n",
    "<h5>HTML tag1</h5>\n",
    "<h6>HTML tag1</h6>\n",
    "\n",
    "\n",
    "Title heading2\n",
    "------------------\n",
    "\n",
    "Title Heading1\n",
    "===================="
   ]
  },
  {
   "cell_type": "markdown",
   "metadata": {},
   "source": [
    "## Block Quote ( > )"
   ]
  },
  {
   "cell_type": "markdown",
   "metadata": {},
   "source": [
    "I am a Block Quote\n",
    "> I am a Block Quote\n",
    ">> I am a Block Quote\n",
    ">>> I am a Block Quote\n",
    ">>>> I am a Block Quote"
   ]
  },
  {
   "cell_type": "markdown",
   "metadata": {},
   "source": [
    "## Paragraph\n"
   ]
  },
  {
   "cell_type": "markdown",
   "metadata": {},
   "source": [
    "Hello Vemu colg Guys Welcome to Python Online Session conducted by APSSDC\n",
    "\n",
    "We are Two Trainers\n",
    "\n",
    "Indupriya\n",
    "Siddhodana"
   ]
  },
  {
   "cell_type": "markdown",
   "metadata": {},
   "source": [
    "## Line break"
   ]
  },
  {
   "cell_type": "markdown",
   "metadata": {},
   "source": [
    "Hello Vemu colg Guys  <br>  Welcome to Python Online Session conducted by APSSDC\n",
    "\n",
    "We are Two Trainers\n",
    "\n",
    "Indupriya  <br>\n",
    "Siddhodana"
   ]
  },
  {
   "cell_type": "markdown",
   "metadata": {},
   "source": [
    "##  UnOrder Lists(- , * - , & )\n",
    "\n",
    "- CSE\n",
    "    - SEC-->A\n",
    "        - Laterals\n",
    "        - Regular\n",
    "    - SEc--> B\n",
    "        - Laterals\n",
    "        - Regular\n",
    "    \n",
    "- ECE\n",
    "- EEE\n",
    "- Mech\n",
    "- CIVIL"
   ]
  },
  {
   "cell_type": "markdown",
   "metadata": {},
   "source": [
    "## Order List\n",
    "\n",
    "1. CSE\n",
    "    \n",
    "    a. Sec A\n",
    "        A. Regular\n",
    "        B. Lateral\n",
    "    b. Sec B\n",
    "    \n",
    "2. ECE\n",
    "3. EEE\n",
    "4. Mech\n",
    "5. CIVIL"
   ]
  },
  {
   "cell_type": "markdown",
   "metadata": {},
   "source": [
    "# Bold ( **  ** )"
   ]
  },
  {
   "cell_type": "markdown",
   "metadata": {},
   "source": [
    "Hello **Vemu** colg Guys\n",
    "Welcome to **Python Online Session** conducted by APSSDC\n",
    "\n",
    "We are Two Trainers\n",
    "\n",
    "Indupriya <br>\n",
    "Siddhodana "
   ]
  },
  {
   "cell_type": "markdown",
   "metadata": {},
   "source": [
    "# Itallic ( *  * )"
   ]
  },
  {
   "cell_type": "markdown",
   "metadata": {},
   "source": [
    "Hello **Vemu** colg Guys\n",
    "Welcome to **Python Online Session** conducted by *APSSDC*\n",
    "\n",
    "We are Two Trainers\n",
    "\n",
    "Indupriya <br>\n",
    "Siddhodana "
   ]
  },
  {
   "cell_type": "markdown",
   "metadata": {},
   "source": [
    "# Bold and Itallic(***  *** )\n",
    "Hello **Vemu** colg Guys\n",
    "Welcome to **Python Online Session** conducted by *APSSDC*\n",
    "\n",
    "We are Two Trainers\n",
    "\n",
    "***Indupriya*** <br>\n",
    "***Siddhodana***"
   ]
  },
  {
   "cell_type": "markdown",
   "metadata": {},
   "source": [
    "## Horizontal Line( < hr >  or -------- )\n",
    "\n",
    "Hello **Vemu** colg Guys\n",
    "<hr>\n",
    "Welcome to **Python Online Session** conducted by *APSSDC*\n",
    "\n",
    "We are Two Trainers\n",
    "\n",
    "***Indupriya*** <br>\n",
    "\n",
    "-----------\n",
    "\n",
    "***Siddhodana***\n"
   ]
  },
  {
   "cell_type": "markdown",
   "metadata": {},
   "source": [
    "## Links"
   ]
  },
  {
   "cell_type": "markdown",
   "metadata": {},
   "source": [
    "- [display](url)\n",
    "\n",
    "[Vemucolg](http://www.vemu.org/)   <br> \n",
    "[APSSDC](https://apssdc.in/home/)\n",
    "\n",
    "\n",
    "\n",
    "\n",
    "Hello **[Vemu](http://www.vemu.org/)** colg Guys\n",
    "<hr>\n",
    "Welcome to **Python Online Session** conducted by \n",
    "\n",
    "*[APSSDC](https://apssdc.in/home/) *\n",
    "\n",
    "We are Two Trainers\n",
    "\n",
    "***Indupriya*** <br>\n",
    "\n",
    "-----------\n",
    "\n",
    "***Siddhodana***\n"
   ]
  },
  {
   "cell_type": "markdown",
   "metadata": {},
   "source": [
    "## Images\n",
    "\n",
    "\n",
    "\n",
    "\n",
    "![Vemu colg](vemu.jpg)\n",
    "\n",
    "![APSSDC](sdc.jpg)"
   ]
  },
  {
   "cell_type": "markdown",
   "metadata": {},
   "source": [
    "<img src=\"sdc.jpg\" width=50 height= 50 align=\"left\">\n",
    "<img src=\"sdc.jpg\" width=50 height= 50 >\n",
    "<img src=\"sdc.jpg\" width=50 height= 50 align=\"right\">"
   ]
  },
  {
   "cell_type": "markdown",
   "metadata": {},
   "source": [
    "## Table"
   ]
  },
  {
   "cell_type": "markdown",
   "metadata": {},
   "source": [
    "S.no|Name|Colg|Phno\n",
    "----|----|-----|----\n",
    "1|Prudhvi|Vemu|987654321\n",
    "560| Vishnu|Vemu IT|12233432478\n",
    "546|Sarath|VEMU|847238479375"
   ]
  },
  {
   "cell_type": "markdown",
   "metadata": {},
   "source": [
    "## Task List"
   ]
  },
  {
   "cell_type": "markdown",
   "metadata": {},
   "source": [
    "- Who Invented Python Language\n",
    "\n",
    "- [ ] Charless Babbage\n",
    "- [ ] Newton\n",
    "- [X] Guido Van Rossum\n",
    "- [ ] none of the above"
   ]
  },
  {
   "cell_type": "code",
   "execution_count": null,
   "metadata": {},
   "outputs": [],
   "source": []
  }
 ],
 "metadata": {
  "kernelspec": {
   "display_name": "Python 3",
   "language": "python",
   "name": "python3"
  },
  "language_info": {
   "codemirror_mode": {
    "name": "ipython",
    "version": 3
   },
   "file_extension": ".py",
   "mimetype": "text/x-python",
   "name": "python",
   "nbconvert_exporter": "python",
   "pygments_lexer": "ipython3",
   "version": "3.7.3"
  }
 },
 "nbformat": 4,
 "nbformat_minor": 2
}
