{
 "cells": [
  {
   "cell_type": "markdown",
   "metadata": {},
   "source": [
    "## Sets\n",
    "\n",
    "\n",
    "- A set is a well defined collection of objects \n",
    "- collection of elements\n",
    "- Sets allows the user to store duplicate values while initilizing stage\n",
    "- But after that it remove duplicate data after declaration \n",
    "- set is defined as set()\n",
    "- but set is directly defined and represent as {}\n",
    "- It cannot follow order"
   ]
  },
  {
   "cell_type": "code",
   "execution_count": 1,
   "metadata": {},
   "outputs": [
    {
     "name": "stdout",
     "output_type": "stream",
     "text": [
      "{'Vemu colg', 'Indu', 10, '90', 'siddu', 20}\n",
      "<class 'set'>\n"
     ]
    }
   ],
   "source": [
    "set1=set([10,20,\"Indu\",\"Vemu colg\",\"siddu\",\"90\"])\n",
    "print(set1)\n",
    "print(type(set1))"
   ]
  },
  {
   "cell_type": "code",
   "execution_count": 2,
   "metadata": {},
   "outputs": [
    {
     "name": "stdout",
     "output_type": "stream",
     "text": [
      "{'Vemu colg', 'Indu', 10, '90', 'siddu', 20}\n",
      "<class 'set'>\n"
     ]
    }
   ],
   "source": [
    "set2={10,20,\"Indu\",\"Vemu colg\",\"siddu\",\"90\"}\n",
    "print(set2)\n",
    "print(type(set2))"
   ]
  },
  {
   "cell_type": "code",
   "execution_count": 3,
   "metadata": {},
   "outputs": [
    {
     "name": "stdout",
     "output_type": "stream",
     "text": [
      "Vemu colg\n",
      "Indu\n",
      "10\n",
      "90\n",
      "siddu\n",
      "20\n"
     ]
    }
   ],
   "source": [
    "for item in set2:\n",
    "    print(item)"
   ]
  },
  {
   "cell_type": "code",
   "execution_count": 4,
   "metadata": {},
   "outputs": [
    {
     "data": {
      "text/plain": [
       "[13, 24, 35, 46, 57, 36, 78, 69, 47]"
      ]
     },
     "execution_count": 4,
     "metadata": {},
     "output_type": "execute_result"
    }
   ],
   "source": [
    "## Can u elimiate the duplicate elements in list?   ----> directly not possible in list\n",
    "# By implementing our logic to find unquie list with the help of set\n",
    "\n",
    "\n",
    "# In list\n",
    "mylist=[13,24,35,46,57,57,46,36,78,78,69,47]  # 56,46,78\n",
    "unique=[]  # No duplicate values\n",
    "for num in mylist:\n",
    "    if num not in unique:\n",
    "        unique.append(num)\n",
    "        \n",
    "unique"
   ]
  },
  {
   "cell_type": "code",
   "execution_count": 5,
   "metadata": {},
   "outputs": [
    {
     "name": "stdout",
     "output_type": "stream",
     "text": [
      "{35, 36, 69, 13, 46, 78, 47, 24, 57}\n",
      "<class 'set'>\n"
     ]
    }
   ],
   "source": [
    "# In set We automatically remove the duplicates\n",
    "myset={13,24,35,46,57,57,46,36,78,78,69,47}  # set didnt follow order but remove duplicates\n",
    "print(myset)\n",
    "print(type(myset))"
   ]
  },
  {
   "cell_type": "code",
   "execution_count": 6,
   "metadata": {},
   "outputs": [],
   "source": [
    "a={13,2,3,4,6,1,2,3,5,3,6,7,9}\n",
    "\n",
    "# union ,Intersetion,disjoint , difference, subset,superset ......"
   ]
  },
  {
   "cell_type": "code",
   "execution_count": 7,
   "metadata": {},
   "outputs": [
    {
     "name": "stdout",
     "output_type": "stream",
     "text": [
      "['__and__', '__class__', '__contains__', '__delattr__', '__dir__', '__doc__', '__eq__', '__format__', '__ge__', '__getattribute__', '__gt__', '__hash__', '__iand__', '__init__', '__init_subclass__', '__ior__', '__isub__', '__iter__', '__ixor__', '__le__', '__len__', '__lt__', '__ne__', '__new__', '__or__', '__rand__', '__reduce__', '__reduce_ex__', '__repr__', '__ror__', '__rsub__', '__rxor__', '__setattr__', '__sizeof__', '__str__', '__sub__', '__subclasshook__', '__xor__', 'add', 'clear', 'copy', 'difference', 'difference_update', 'discard', 'intersection', 'intersection_update', 'isdisjoint', 'issubset', 'issuperset', 'pop', 'remove', 'symmetric_difference', 'symmetric_difference_update', 'union', 'update']\n"
     ]
    }
   ],
   "source": [
    "print(dir(set))"
   ]
  },
  {
   "cell_type": "code",
   "execution_count": 9,
   "metadata": {},
   "outputs": [
    {
     "name": "stdout",
     "output_type": "stream",
     "text": [
      "{1, 3, 5, 7, 9, 11, 13}\n",
      "<class 'set'>\n"
     ]
    }
   ],
   "source": [
    "# Creating set\n",
    "\n",
    "s1={1,3,5,7,9,11,13,1,3,5,7}\n",
    "print(s1)\n",
    "print(type(s1))"
   ]
  },
  {
   "cell_type": "code",
   "execution_count": 10,
   "metadata": {},
   "outputs": [
    {
     "ename": "TypeError",
     "evalue": "'set' object is not subscriptable",
     "output_type": "error",
     "traceback": [
      "\u001b[1;31m---------------------------------------------------------------------------\u001b[0m",
      "\u001b[1;31mTypeError\u001b[0m                                 Traceback (most recent call last)",
      "\u001b[1;32m<ipython-input-10-381cd4ef4a66>\u001b[0m in \u001b[0;36m<module>\u001b[1;34m\u001b[0m\n\u001b[0;32m      1\u001b[0m \u001b[1;31m#Accesing values in a set\u001b[0m\u001b[1;33m\u001b[0m\u001b[1;33m\u001b[0m\u001b[1;33m\u001b[0m\u001b[0m\n\u001b[1;32m----> 2\u001b[1;33m \u001b[0ms1\u001b[0m\u001b[1;33m[\u001b[0m\u001b[1;36m2\u001b[0m\u001b[1;33m]\u001b[0m\u001b[1;33m\u001b[0m\u001b[1;33m\u001b[0m\u001b[0m\n\u001b[0m",
      "\u001b[1;31mTypeError\u001b[0m: 'set' object is not subscriptable"
     ]
    }
   ],
   "source": [
    "#Accesing values in a set\n",
    "s1[2]   # In set values are not accesable"
   ]
  },
  {
   "cell_type": "code",
   "execution_count": 11,
   "metadata": {},
   "outputs": [
    {
     "data": {
      "text/plain": [
       "{1, 3, 5, 7, 9, 11, 13}"
      ]
     },
     "execution_count": 11,
     "metadata": {},
     "output_type": "execute_result"
    }
   ],
   "source": [
    "# Using add method \n",
    "s1"
   ]
  },
  {
   "cell_type": "code",
   "execution_count": 12,
   "metadata": {},
   "outputs": [
    {
     "name": "stdout",
     "output_type": "stream",
     "text": [
      "{1, 3, 5, 7, 9, 11, 13, 17}\n"
     ]
    }
   ],
   "source": [
    "s1.add(17)\n",
    "print(s1)"
   ]
  },
  {
   "cell_type": "code",
   "execution_count": 13,
   "metadata": {},
   "outputs": [
    {
     "name": "stdout",
     "output_type": "stream",
     "text": [
      "[1, 2, 5, 6, 2, 3] <class 'list'>\n",
      "{1, 2, 3, 5, 6, 7, 9, 11, 13, 17} <class 'set'>\n"
     ]
    }
   ],
   "source": [
    "# Update method\n",
    "list1=[1,2,5,6,2,3]\n",
    "s1.update(list1)\n",
    "print(list1,type(list1))\n",
    "print(s1,type(s1))\n"
   ]
  },
  {
   "cell_type": "code",
   "execution_count": 14,
   "metadata": {
    "scrolled": true
   },
   "outputs": [
    {
     "name": "stdout",
     "output_type": "stream",
     "text": [
      "{1, 3, 5, 6, 7, 9, 11, 13, 17}\n"
     ]
    }
   ],
   "source": [
    "# discard     ----->nothing but delete\n",
    "s1.discard(2)\n",
    "print(s1)"
   ]
  },
  {
   "cell_type": "code",
   "execution_count": 15,
   "metadata": {},
   "outputs": [
    {
     "data": {
      "text/plain": [
       "{1, 3, 5, 6, 7, 9, 11, 13, 17}"
      ]
     },
     "execution_count": 15,
     "metadata": {},
     "output_type": "execute_result"
    }
   ],
   "source": [
    "# remove\n",
    "s1"
   ]
  },
  {
   "cell_type": "code",
   "execution_count": 17,
   "metadata": {},
   "outputs": [
    {
     "name": "stdout",
     "output_type": "stream",
     "text": [
      "{1, 3, 5, 7, 9, 11, 13, 17}\n"
     ]
    }
   ],
   "source": [
    "s1.remove(6)\n",
    "print(s1)"
   ]
  },
  {
   "cell_type": "code",
   "execution_count": 23,
   "metadata": {},
   "outputs": [
    {
     "data": {
      "text/plain": [
       "{0, 1, 2, 3, 4, 5, 6, 7, 8, 9}"
      ]
     },
     "execution_count": 23,
     "metadata": {},
     "output_type": "execute_result"
    }
   ],
   "source": [
    "# Union Operation\n",
    "\n",
    "s2={1,3,5,7,9,7,9,5}\n",
    "s3={2,4,4,6,8,0,4,2,4,9}\n",
    "union1=s2|s3       # Union synbol (|)\n",
    "union1"
   ]
  },
  {
   "cell_type": "code",
   "execution_count": 24,
   "metadata": {},
   "outputs": [
    {
     "name": "stdout",
     "output_type": "stream",
     "text": [
      "{1, 3, 5, 7, 9}\n",
      "{0, 2, 4, 6, 8, 9}\n",
      "{9}\n"
     ]
    }
   ],
   "source": [
    "# Intersection\n",
    "\n",
    "print(s2)\n",
    "print(s3)\n",
    "intersection1=s2&s3\n",
    "print(intersection1)"
   ]
  },
  {
   "cell_type": "code",
   "execution_count": 25,
   "metadata": {},
   "outputs": [
    {
     "name": "stdout",
     "output_type": "stream",
     "text": [
      "{1, 3, 5, 7, 9}\n",
      "{0, 2, 4, 6, 8, 9}\n",
      "{1, 3, 5, 7}\n",
      "{0, 2, 4, 6, 8}\n"
     ]
    }
   ],
   "source": [
    "# Difference -\n",
    "print(s2)\n",
    "print(s3)\n",
    "diff1=s2-s3\n",
    "print(diff1)\n",
    "diff2=s3-s2\n",
    "print(diff2)"
   ]
  },
  {
   "cell_type": "code",
   "execution_count": 27,
   "metadata": {},
   "outputs": [
    {
     "name": "stdout",
     "output_type": "stream",
     "text": [
      "{1, 3, 5, 7, 9}\n",
      "{0, 2, 4, 6, 8, 9}\n",
      "{0, 1, 2, 3, 4, 5, 6, 7, 8}\n",
      "{0, 1, 2, 3, 4, 5, 6, 7, 8}\n"
     ]
    }
   ],
   "source": [
    "# Symmetric difference\n",
    "print(s2)\n",
    "print(s3)\n",
    "symm=s2^s3\n",
    "print(symm)\n",
    "symm1=s3^s2\n",
    "print(symm1)"
   ]
  },
  {
   "cell_type": "code",
   "execution_count": 32,
   "metadata": {},
   "outputs": [
    {
     "name": "stdout",
     "output_type": "stream",
     "text": [
      "{1, 3, 5, 7, 9}\n",
      "{0, 2, 4, 6, 8, 9}\n",
      "False\n",
      "True\n",
      "False\n",
      "False\n"
     ]
    }
   ],
   "source": [
    "# Comparision operator using  two sets\n",
    "print(s2)\n",
    "print(s3)\n",
    "compare=s2==s3\n",
    "print(compare)\n",
    "s4={1,3,5,7,9}\n",
    "compare1=s2==s4\n",
    "print(compare1)\n",
    "compare3=s2<s3\n",
    "print(compare3)\n",
    "compare4=s3>=s4\n",
    "print(compare4)"
   ]
  },
  {
   "cell_type": "code",
   "execution_count": 33,
   "metadata": {},
   "outputs": [
    {
     "name": "stdout",
     "output_type": "stream",
     "text": [
      "{1, 3, 5, 7, 9, 11, 13, 17}\n",
      "{1, 3, 5, 7, 9}\n",
      "{0, 2, 4, 6, 8, 9}\n"
     ]
    }
   ],
   "source": [
    "# Membership operator (in,not in)\n",
    "print(s1)\n",
    "print(s2)\n",
    "print(s3)\n",
    "\n"
   ]
  },
  {
   "cell_type": "code",
   "execution_count": 34,
   "metadata": {},
   "outputs": [
    {
     "data": {
      "text/plain": [
       "True"
      ]
     },
     "execution_count": 34,
     "metadata": {},
     "output_type": "execute_result"
    }
   ],
   "source": [
    "17 in s1"
   ]
  },
  {
   "cell_type": "code",
   "execution_count": 35,
   "metadata": {},
   "outputs": [
    {
     "data": {
      "text/plain": [
       "False"
      ]
     },
     "execution_count": 35,
     "metadata": {},
     "output_type": "execute_result"
    }
   ],
   "source": [
    "10 in s1"
   ]
  },
  {
   "cell_type": "code",
   "execution_count": 36,
   "metadata": {},
   "outputs": [
    {
     "data": {
      "text/plain": [
       "True"
      ]
     },
     "execution_count": 36,
     "metadata": {},
     "output_type": "execute_result"
    }
   ],
   "source": [
    "12 not in s2"
   ]
  },
  {
   "cell_type": "code",
   "execution_count": 37,
   "metadata": {},
   "outputs": [
    {
     "name": "stdout",
     "output_type": "stream",
     "text": [
      "1\n",
      "3\n",
      "5\n",
      "7\n",
      "9\n",
      "11\n",
      "13\n",
      "17\n"
     ]
    }
   ],
   "source": [
    "# Iterations ---> for loop\n",
    "for num in s1:\n",
    "    print(num)"
   ]
  },
  {
   "cell_type": "code",
   "execution_count": 38,
   "metadata": {},
   "outputs": [
    {
     "name": "stdout",
     "output_type": "stream",
     "text": [
      "{1, 3, 5, 7, 9, 11, 13, 17}\n",
      "set()\n"
     ]
    }
   ],
   "source": [
    "# Clear\n",
    "\n",
    "print(s1)\n",
    "s1.clear()\n",
    "print(s1)"
   ]
  },
  {
   "cell_type": "code",
   "execution_count": null,
   "metadata": {},
   "outputs": [],
   "source": []
  },
  {
   "cell_type": "markdown",
   "metadata": {},
   "source": [
    "## Dictionary \n",
    "\n",
    "- It is defined as {}\n",
    "- It is immutable also hetrogeneous \n",
    "- It supports all data types(int,float,string,list,tuple,set, dict)\n",
    "- {key: value}\n",
    "    - key : is a unique value\n",
    "    - Value is not unique\n",
    "    \n",
    " - DictionaRY IS FULLY DEPEND ON KEYS"
   ]
  },
  {
   "cell_type": "code",
   "execution_count": 39,
   "metadata": {},
   "outputs": [
    {
     "name": "stdout",
     "output_type": "stream",
     "text": [
      "{1, 2, 3, 4}\n",
      "<class 'set'>\n"
     ]
    }
   ],
   "source": [
    "d={1,2,3,4,1,2,3,4}\n",
    "print(d)\n",
    "print(type(d))"
   ]
  },
  {
   "cell_type": "code",
   "execution_count": null,
   "metadata": {},
   "outputs": [],
   "source": [
    "# How to we define dictionary\n",
    "dictionay=dict({key:val})\n"
   ]
  },
  {
   "cell_type": "code",
   "execution_count": 40,
   "metadata": {},
   "outputs": [
    {
     "data": {
      "text/plain": [
       "{'no': '36', 'name': 'Indu', 1: 1, 'branches': ('CSE', 'ECE', 'EEE', 'CIVIL')}"
      ]
     },
     "execution_count": 40,
     "metadata": {},
     "output_type": "execute_result"
    }
   ],
   "source": [
    "dict1={\"no\":\"36\",\"name\":\"Indu\",1:1,\"branches\":(\"CSE\",\"ECE\",\"EEE\",\"CIVIL\")}\n",
    "dict1"
   ]
  },
  {
   "cell_type": "code",
   "execution_count": 41,
   "metadata": {},
   "outputs": [
    {
     "data": {
      "text/plain": [
       "dict_keys(['no', 'name', 1, 'branches'])"
      ]
     },
     "execution_count": 41,
     "metadata": {},
     "output_type": "execute_result"
    }
   ],
   "source": [
    "dict1.keys()   # only keys"
   ]
  },
  {
   "cell_type": "code",
   "execution_count": 42,
   "metadata": {},
   "outputs": [
    {
     "data": {
      "text/plain": [
       "dict_values(['36', 'Indu', 1, ('CSE', 'ECE', 'EEE', 'CIVIL')])"
      ]
     },
     "execution_count": 42,
     "metadata": {},
     "output_type": "execute_result"
    }
   ],
   "source": [
    "dict1.values() # only values"
   ]
  },
  {
   "cell_type": "code",
   "execution_count": 44,
   "metadata": {},
   "outputs": [
    {
     "data": {
      "text/plain": [
       "dict_items([('no', '36'), ('name', 'Indu'), (1, 1), ('branches', ('CSE', 'ECE', 'EEE', 'CIVIL'))])"
      ]
     },
     "execution_count": 44,
     "metadata": {},
     "output_type": "execute_result"
    }
   ],
   "source": [
    "dict1.items() # both keys and values in tuple format"
   ]
  },
  {
   "cell_type": "code",
   "execution_count": 45,
   "metadata": {},
   "outputs": [
    {
     "name": "stdout",
     "output_type": "stream",
     "text": [
      "0 : 1\n",
      "1 : 2\n",
      "2 : 3\n",
      "3 : 4\n",
      "4 : 5\n",
      "5 : 6\n",
      "6 : 7\n",
      "7 : 8\n",
      "8 : 9\n"
     ]
    }
   ],
   "source": [
    "# How to we wprk list of values with dict\n",
    "mylist=[1,2,3,4,5,6,7,8,9]\n",
    "for keys in range(0,len(mylist)):\n",
    "    print(keys,mylist[keys],sep=\" : \")"
   ]
  },
  {
   "cell_type": "code",
   "execution_count": 46,
   "metadata": {},
   "outputs": [
    {
     "name": "stdout",
     "output_type": "stream",
     "text": [
      "0 : 1\n",
      "1 : 2\n",
      "2 : 3\n",
      "3 : 4\n",
      "4 : 5\n",
      "5 : 6\n",
      "6 : 7\n",
      "7 : 8\n",
      "8 : 9\n"
     ]
    },
    {
     "ename": "IndexError",
     "evalue": "list index out of range",
     "output_type": "error",
     "traceback": [
      "\u001b[1;31m---------------------------------------------------------------------------\u001b[0m",
      "\u001b[1;31mIndexError\u001b[0m                                Traceback (most recent call last)",
      "\u001b[1;32m<ipython-input-46-620ca6c18527>\u001b[0m in \u001b[0;36m<module>\u001b[1;34m\u001b[0m\n\u001b[0;32m      2\u001b[0m \u001b[0mmylist\u001b[0m\u001b[1;33m=\u001b[0m\u001b[1;33m[\u001b[0m\u001b[1;36m1\u001b[0m\u001b[1;33m,\u001b[0m\u001b[1;36m2\u001b[0m\u001b[1;33m,\u001b[0m\u001b[1;36m3\u001b[0m\u001b[1;33m,\u001b[0m\u001b[1;36m4\u001b[0m\u001b[1;33m,\u001b[0m\u001b[1;36m5\u001b[0m\u001b[1;33m,\u001b[0m\u001b[1;36m6\u001b[0m\u001b[1;33m,\u001b[0m\u001b[1;36m7\u001b[0m\u001b[1;33m,\u001b[0m\u001b[1;36m8\u001b[0m\u001b[1;33m,\u001b[0m\u001b[1;36m9\u001b[0m\u001b[1;33m]\u001b[0m\u001b[1;33m\u001b[0m\u001b[1;33m\u001b[0m\u001b[0m\n\u001b[0;32m      3\u001b[0m \u001b[1;32mfor\u001b[0m \u001b[0mkeys\u001b[0m \u001b[1;32min\u001b[0m \u001b[0mrange\u001b[0m\u001b[1;33m(\u001b[0m\u001b[1;36m0\u001b[0m\u001b[1;33m,\u001b[0m\u001b[0mlen\u001b[0m\u001b[1;33m(\u001b[0m\u001b[0mmylist\u001b[0m\u001b[1;33m)\u001b[0m\u001b[1;33m+\u001b[0m\u001b[1;36m1\u001b[0m\u001b[1;33m)\u001b[0m\u001b[1;33m:\u001b[0m\u001b[1;33m\u001b[0m\u001b[1;33m\u001b[0m\u001b[0m\n\u001b[1;32m----> 4\u001b[1;33m     \u001b[0mprint\u001b[0m\u001b[1;33m(\u001b[0m\u001b[0mkeys\u001b[0m\u001b[1;33m,\u001b[0m\u001b[0mmylist\u001b[0m\u001b[1;33m[\u001b[0m\u001b[0mkeys\u001b[0m\u001b[1;33m]\u001b[0m\u001b[1;33m,\u001b[0m\u001b[0msep\u001b[0m\u001b[1;33m=\u001b[0m\u001b[1;34m\" : \"\u001b[0m\u001b[1;33m)\u001b[0m\u001b[1;33m\u001b[0m\u001b[1;33m\u001b[0m\u001b[0m\n\u001b[0m",
      "\u001b[1;31mIndexError\u001b[0m: list index out of range"
     ]
    }
   ],
   "source": [
    "# How to we wprk list of values with dict\n",
    "mylist=[1,2,3,4,5,6,7,8,9]\n",
    "for keys in range(0,len(mylist)+1):\n",
    "    print(keys,mylist[keys],sep=\" : \")"
   ]
  },
  {
   "cell_type": "code",
   "execution_count": 47,
   "metadata": {},
   "outputs": [
    {
     "data": {
      "text/plain": [
       "{'no': '36', 'name': 'Indu', 1: 1, 'branches': ('CSE', 'ECE', 'EEE', 'CIVIL')}"
      ]
     },
     "execution_count": 47,
     "metadata": {},
     "output_type": "execute_result"
    }
   ],
   "source": [
    "dict1"
   ]
  },
  {
   "cell_type": "code",
   "execution_count": 49,
   "metadata": {},
   "outputs": [
    {
     "data": {
      "text/plain": [
       "('CSE', 'ECE', 'EEE', 'CIVIL')"
      ]
     },
     "execution_count": 49,
     "metadata": {},
     "output_type": "execute_result"
    }
   ],
   "source": [
    "dict1[\"branches\"]"
   ]
  },
  {
   "cell_type": "code",
   "execution_count": 50,
   "metadata": {},
   "outputs": [
    {
     "name": "stdout",
     "output_type": "stream",
     "text": [
      "CSE\n",
      "ECE\n",
      "EEE\n",
      "CIVIL\n"
     ]
    }
   ],
   "source": [
    "for branch in dict1[\"branches\"]:\n",
    "    print(branch)"
   ]
  },
  {
   "cell_type": "code",
   "execution_count": 51,
   "metadata": {},
   "outputs": [
    {
     "name": "stdout",
     "output_type": "stream",
     "text": [
      "{'no': '36', 'name': 'Indu', 1: 1, 'branches': ('CSE', 'ECE', 'EEE', 'CIVIL')}\n",
      "{'no': '36', 'name': 'Indu', 1: 1, 'branches': ('CSE', 'ECE', 'EEE', 'CIVIL'), 'new key': 'new_value'}\n"
     ]
    }
   ],
   "source": [
    "# How to add new data in dictionary\n",
    "print(dict1)\n",
    "dict1[\"new key\"]=\"new_value\"\n",
    "print(dict1)"
   ]
  },
  {
   "cell_type": "code",
   "execution_count": 52,
   "metadata": {},
   "outputs": [
    {
     "name": "stdout",
     "output_type": "stream",
     "text": [
      "{'no': '36', 'name': 'Indu', 1: 1, 'branches': ('CSE', 'ECE', 'EEE', 'CIVIL'), 'new key': 'new_value'}\n",
      "{'no': '36', 'name': 'Indu', 1: 1, 'branches': ('CSE', 'ECE', 'EEE', 'CIVIL'), 'new key': 'value'}\n"
     ]
    }
   ],
   "source": [
    "print(dict1)     \n",
    "dict1[\"new key\"]=\"value\"   # here key will be duplicate value so it stores resent update key only becz, key ois a unique \n",
    "print(dict1)"
   ]
  },
  {
   "cell_type": "code",
   "execution_count": 53,
   "metadata": {},
   "outputs": [
    {
     "name": "stdout",
     "output_type": "stream",
     "text": [
      "{'no': '36', 'name': 'Indu', 1: 1, 'branches': ('CSE', 'ECE', 'EEE', 'CIVIL'), 'new key': 'value'}\n",
      "{'no': '36', 'name': 'Indu', 1: 1, 'branches': ('CSE', 'ECE', 'EEE', 'CIVIL'), 'new key': 'value', 'key': 'value'}\n"
     ]
    }
   ],
   "source": [
    "print(dict1)\n",
    "dict1[\"key\"]=\"value\"\n",
    "print(dict1)"
   ]
  },
  {
   "cell_type": "code",
   "execution_count": 54,
   "metadata": {},
   "outputs": [
    {
     "name": "stdout",
     "output_type": "stream",
     "text": [
      "['__class__', '__contains__', '__delattr__', '__delitem__', '__dir__', '__doc__', '__eq__', '__format__', '__ge__', '__getattribute__', '__getitem__', '__gt__', '__hash__', '__init__', '__init_subclass__', '__iter__', '__le__', '__len__', '__lt__', '__ne__', '__new__', '__reduce__', '__reduce_ex__', '__repr__', '__setattr__', '__setitem__', '__sizeof__', '__str__', '__subclasshook__', 'clear', 'copy', 'fromkeys', 'get', 'items', 'keys', 'pop', 'popitem', 'setdefault', 'update', 'values']\n"
     ]
    }
   ],
   "source": [
    "print(dir(dict))"
   ]
  },
  {
   "cell_type": "code",
   "execution_count": 55,
   "metadata": {},
   "outputs": [
    {
     "name": "stdout",
     "output_type": "stream",
     "text": [
      "{'no': '36', 'name': 'Indu', 1: 1, 'branches': ('CSE', 'ECE', 'EEE', 'CIVIL'), 'new key': 'value', 'key': 'value'}\n",
      "{'no': '36', 'name': 'Indu', 1: 1, 'branches': ('CSE', 'ECE', 'EEE', 'CIVIL'), 'new key': 'value'}\n"
     ]
    }
   ],
   "source": [
    "# differences between pop and pop item\n",
    "print(dict1)\n",
    "dict1.popitem()\n",
    "print(dict1)"
   ]
  },
  {
   "cell_type": "code",
   "execution_count": 56,
   "metadata": {},
   "outputs": [
    {
     "name": "stdout",
     "output_type": "stream",
     "text": [
      "{'no': '36', 'name': 'Indu', 1: 1, 'branches': ('CSE', 'ECE', 'EEE', 'CIVIL'), 'new key': 'value'}\n"
     ]
    },
    {
     "ename": "TypeError",
     "evalue": "pop expected at least 1 arguments, got 0",
     "output_type": "error",
     "traceback": [
      "\u001b[1;31m---------------------------------------------------------------------------\u001b[0m",
      "\u001b[1;31mTypeError\u001b[0m                                 Traceback (most recent call last)",
      "\u001b[1;32m<ipython-input-56-5f017a4b40f2>\u001b[0m in \u001b[0;36m<module>\u001b[1;34m\u001b[0m\n\u001b[0;32m      1\u001b[0m \u001b[0mprint\u001b[0m\u001b[1;33m(\u001b[0m\u001b[0mdict1\u001b[0m\u001b[1;33m)\u001b[0m\u001b[1;33m\u001b[0m\u001b[1;33m\u001b[0m\u001b[0m\n\u001b[1;32m----> 2\u001b[1;33m \u001b[0mdict1\u001b[0m\u001b[1;33m.\u001b[0m\u001b[0mpop\u001b[0m\u001b[1;33m(\u001b[0m\u001b[1;33m)\u001b[0m\u001b[1;33m\u001b[0m\u001b[1;33m\u001b[0m\u001b[0m\n\u001b[0m\u001b[0;32m      3\u001b[0m \u001b[0mprint\u001b[0m\u001b[1;33m(\u001b[0m\u001b[0mdict1\u001b[0m\u001b[1;33m)\u001b[0m\u001b[1;33m\u001b[0m\u001b[1;33m\u001b[0m\u001b[0m\n",
      "\u001b[1;31mTypeError\u001b[0m: pop expected at least 1 arguments, got 0"
     ]
    }
   ],
   "source": [
    "print(dict1)\n",
    "dict1.pop()\n",
    "print(dict1)"
   ]
  },
  {
   "cell_type": "code",
   "execution_count": 57,
   "metadata": {},
   "outputs": [
    {
     "name": "stdout",
     "output_type": "stream",
     "text": [
      "{'no': '36', 'name': 'Indu', 1: 1, 'branches': ('CSE', 'ECE', 'EEE', 'CIVIL'), 'new key': 'value'}\n",
      "{'no': '36', 'name': 'Indu', 1: 1, 'branches': ('CSE', 'ECE', 'EEE', 'CIVIL')}\n"
     ]
    }
   ],
   "source": [
    "print(dict1)\n",
    "dict1.pop(\"new key\")\n",
    "print(dict1)"
   ]
  },
  {
   "cell_type": "code",
   "execution_count": 58,
   "metadata": {},
   "outputs": [
    {
     "name": "stdout",
     "output_type": "stream",
     "text": [
      "{'no': '36', 'name': 'Indu', 1: 1, 'branches': ('CSE', 'ECE', 'EEE', 'CIVIL')}\n",
      "{'no': '36', 'name': 'Indu', 1: 1, 'branches': ('CSE', 'ECE', 'EEE', 'CIVIL'), 'list': [1, 2, 3, 4, 5, 6], 'hi': 'hi', 'key': 'value'}\n"
     ]
    }
   ],
   "source": [
    "# update\n",
    "print(dict1)\n",
    "dict1.update({\"list\":[1,2,3,4,5,6],\"hi\":\"hi\",\"key\":\"value\"})\n",
    "print(dict1)"
   ]
  },
  {
   "cell_type": "code",
   "execution_count": null,
   "metadata": {},
   "outputs": [],
   "source": []
  },
  {
   "cell_type": "code",
   "execution_count": 59,
   "metadata": {
    "scrolled": true
   },
   "outputs": [
    {
     "ename": "SyntaxError",
     "evalue": "invalid syntax (<ipython-input-59-af630c3b1660>, line 6)",
     "output_type": "error",
     "traceback": [
      "\u001b[1;36m  File \u001b[1;32m\"<ipython-input-59-af630c3b1660>\"\u001b[1;36m, line \u001b[1;32m6\u001b[0m\n\u001b[1;33m    print(\"Five + 10 is \" {a+b} and not {2* (a+b)}). \"plus ten is 15 and not 30.\"\"\u001b[0m\n\u001b[1;37m                          ^\u001b[0m\n\u001b[1;31mSyntaxError\u001b[0m\u001b[1;31m:\u001b[0m invalid syntax\n"
     ]
    }
   ],
   "source": [
    "# format in dictionary\n",
    "\n",
    "# {} - format \n"
   ]
  },
  {
   "cell_type": "code",
   "execution_count": null,
   "metadata": {},
   "outputs": [],
   "source": []
  },
  {
   "cell_type": "code",
   "execution_count": null,
   "metadata": {},
   "outputs": [],
   "source": [
    "## Read your college name from the uswer and make a dictionary of characters along with their ASCII values\n",
    "# colg={\"V\":ASCII value}\n",
    "\n",
    "\n",
    "# Task2\n",
    "\n",
    "# Prepare a dictionary of suares for the number which are even in  a range (1,10)\n",
    "\n",
    "# keys : range(1,10)\n",
    "# values : squarea  1 ,4\n",
    "\n",
    "# {1:1,2:4,3:9}\n",
    "\n",
    "\n",
    "\n",
    "# Task 3 (bill app)\n",
    "\n",
    "# idly :20\n",
    "# dosa 30 \n",
    "\n",
    "...\n",
    "\n",
    "\n"
   ]
  },
  {
   "cell_type": "code",
   "execution_count": null,
   "metadata": {},
   "outputs": [],
   "source": []
  },
  {
   "cell_type": "code",
   "execution_count": null,
   "metadata": {},
   "outputs": [],
   "source": []
  },
  {
   "cell_type": "markdown",
   "metadata": {},
   "source": [
    "## Functions\n",
    "\n",
    "- Function is defined as def keyword\n",
    "- It is a block code which only runs when it is called\n",
    "- It avoids repetation and make code reusuabulity\n",
    "- Function nameing follow some rules\n",
    "    - syn :\n",
    "        - def funname(arguments):\n",
    "                statemebts     # folow indentation\n",
    "                \n",
    "                \n",
    "             - function call\n",
    "                 - funnname(arguments) -----> function call\n",
    "                 - Optional return statement to a return value from the function\n"
   ]
  },
  {
   "cell_type": "code",
   "execution_count": 67,
   "metadata": {},
   "outputs": [
    {
     "name": "stdout",
     "output_type": "stream",
     "text": [
      "14 is even\n",
      "12 is even\n",
      "35 is odd\n",
      "26 is even\n"
     ]
    }
   ],
   "source": [
    "# Check the given numbers are even or odd 14,12,35,26\n",
    "\n",
    "num1=14\n",
    "num2=12\n",
    "num3=35\n",
    "num4=26\n",
    "# colg=\"vemu colg\"\n",
    "# branch=\"Cse\"\n",
    "# print(\"hi {} guys , you are {} branch\".format(branch,colg))\n",
    "\n",
    "if(num1%2==0):\n",
    "    print('{} is even'.format(num1))\n",
    "    \n",
    "else:\n",
    "    print('{} is odd'.format(num1))\n",
    "\n",
    "    \n",
    "if(num2%2==0):\n",
    "    print('{} is even'.format(num2))\n",
    "    \n",
    "else:\n",
    "    print('{} is odd'.format(num2))\n",
    "    \n",
    "    \n",
    "if(num3%2==0):\n",
    "    print('{} is even'.format(num3))\n",
    "    \n",
    "else:\n",
    "    print('{} is odd'.format(num3))\n",
    "\n",
    "\n",
    "if(num1%2==0):\n",
    "    print('{} is even'.format(num4))\n",
    "    \n",
    "else:\n",
    "    print('{} is odd'.format(num4))\n"
   ]
  },
  {
   "cell_type": "markdown",
   "metadata": {},
   "source": [
    "# with using function\n"
   ]
  },
  {
   "cell_type": "code",
   "execution_count": 68,
   "metadata": {},
   "outputs": [],
   "source": [
    "def evenorodd(num):\n",
    "    if(num%2==0):\n",
    "        print('{} is even'.format(num))    \n",
    "    else:\n",
    "        print('{} is odd'.format(num))\n"
   ]
  },
  {
   "cell_type": "code",
   "execution_count": 69,
   "metadata": {},
   "outputs": [
    {
     "name": "stdout",
     "output_type": "stream",
     "text": [
      "14 is even\n"
     ]
    }
   ],
   "source": [
    "# function call\n",
    "\n",
    "evenorodd(14)"
   ]
  },
  {
   "cell_type": "code",
   "execution_count": 72,
   "metadata": {},
   "outputs": [
    {
     "name": "stdout",
     "output_type": "stream",
     "text": [
      "13 is odd\n"
     ]
    }
   ],
   "source": [
    "evenorodd(13)"
   ]
  },
  {
   "cell_type": "code",
   "execution_count": null,
   "metadata": {},
   "outputs": [],
   "source": [
    "    "
   ]
  }
 ],
 "metadata": {
  "kernelspec": {
   "display_name": "Python 3",
   "language": "python",
   "name": "python3"
  },
  "language_info": {
   "codemirror_mode": {
    "name": "ipython",
    "version": 3
   },
   "file_extension": ".py",
   "mimetype": "text/x-python",
   "name": "python",
   "nbconvert_exporter": "python",
   "pygments_lexer": "ipython3",
   "version": "3.7.3"
  }
 },
 "nbformat": 4,
 "nbformat_minor": 2
}
