{
 "cells": [
  {
   "cell_type": "markdown",
   "metadata": {},
   "source": [
    "# Todays Agenda:\n",
    "\n",
    "## OOPs through Python\n",
    "## Packages and Modules in OOPs\n",
    "    "
   ]
  },
  {
   "cell_type": "markdown",
   "metadata": {},
   "source": [
    "- Python is both Procedural Oriented and also Object Oriented Language\n",
    "### Object Oriented Program\n",
    "- Class \n",
    "- Objects\n",
    "- Constructors\n",
    "- Iheritance\n",
    "- Packages and Modules through OOPs"
   ]
  },
  {
   "cell_type": "markdown",
   "metadata": {},
   "source": [
    "## Object Oriented Program\n",
    "### Advances:\n",
    "- Improved Software development Productivity\n",
    "- Improved Sofware Maintaibulity\n",
    "- Faster Developement\n",
    "- Lower cost of developement\n",
    "- Highly quality software\n",
    "\n",
    "### Dis Adv:\n",
    "- Slow Programs\n",
    "- Larger Program Size\n",
    "- Not suitable for small Projects/Not suitable for all types of programs\n",
    "- Steep Learning Curve\n"
   ]
  },
  {
   "cell_type": "markdown",
   "metadata": {},
   "source": [
    "### Procedural Oriented Program\n",
    "#### Adv:\n",
    "- It is wexcellent for general Purpose Programming\n",
    "- Program Track Easily\n",
    "- Memory Requiqurements , Easy to crack\n",
    "- Easy Code reusuabulity  so need to copy the code \n",
    "\n",
    "\n",
    "### Dis adv\n",
    "\n",
    "- Not secure\n",
    "- The program code is harder to write when procedural Program is employed\n",
    "- Difficult to relate real -world objects\n",
    "\n",
    "\n"
   ]
  },
  {
   "cell_type": "markdown",
   "metadata": {},
   "source": [
    "### Object Oriented Programming\n",
    "#### Class\n",
    "![image](python oops1.png)\n",
    "\n",
    "- class is a logical Entity\n",
    "- Blue print\n",
    "- Class is a collection of objects\n",
    "- class is a collection of variables and methods\n",
    "    - variable: It is a memory location that holds values\n",
    "    - function:- block of code\n",
    "    - method: If function existed inside the class of code\n",
    "\n",
    "#### syn:\n",
    "\n",
    "class Classname:   -----> Car\n",
    "    list of variables\n",
    "    list of functions   ------> moving ,stop,reverse\n",
    "   \n",
    "    \n",
    "    \n",
    "    \n"
   ]
  },
  {
   "cell_type": "code",
   "execution_count": 1,
   "metadata": {},
   "outputs": [],
   "source": [
    "# Class\n",
    "class Hello:\n",
    "    a=36.9\n",
    "    b=\"Vemu colg\"\n",
    "    def hello():    # method\n",
    "        print(\"I am a function method\")\n",
    "        \n",
    "    def hi():\n",
    "        print(\"I am hi method\")"
   ]
  },
  {
   "cell_type": "code",
   "execution_count": 2,
   "metadata": {},
   "outputs": [
    {
     "ename": "NameError",
     "evalue": "name 'a' is not defined",
     "output_type": "error",
     "traceback": [
      "\u001b[1;31m---------------------------------------------------------------------------\u001b[0m",
      "\u001b[1;31mNameError\u001b[0m                                 Traceback (most recent call last)",
      "\u001b[1;32m<ipython-input-2-bca0e2660b9f>\u001b[0m in \u001b[0;36m<module>\u001b[1;34m\u001b[0m\n\u001b[1;32m----> 1\u001b[1;33m \u001b[0mprint\u001b[0m\u001b[1;33m(\u001b[0m\u001b[0ma\u001b[0m\u001b[1;33m)\u001b[0m\u001b[1;33m\u001b[0m\u001b[1;33m\u001b[0m\u001b[0m\n\u001b[0m",
      "\u001b[1;31mNameError\u001b[0m: name 'a' is not defined"
     ]
    }
   ],
   "source": [
    "print(a)"
   ]
  },
  {
   "cell_type": "code",
   "execution_count": 3,
   "metadata": {},
   "outputs": [
    {
     "data": {
      "text/plain": [
       "36.9"
      ]
     },
     "execution_count": 3,
     "metadata": {},
     "output_type": "execute_result"
    }
   ],
   "source": [
    "# classname.var/funname\n",
    "\n",
    "Hello.a    # .is a message calling operator"
   ]
  },
  {
   "cell_type": "code",
   "execution_count": 5,
   "metadata": {},
   "outputs": [
    {
     "data": {
      "text/plain": [
       "'Vemu colg'"
      ]
     },
     "execution_count": 5,
     "metadata": {},
     "output_type": "execute_result"
    }
   ],
   "source": [
    "Hello.b"
   ]
  },
  {
   "cell_type": "code",
   "execution_count": 6,
   "metadata": {},
   "outputs": [
    {
     "name": "stdout",
     "output_type": "stream",
     "text": [
      "I am a function method\n"
     ]
    }
   ],
   "source": [
    "Hello.hello()"
   ]
  },
  {
   "cell_type": "code",
   "execution_count": 7,
   "metadata": {},
   "outputs": [
    {
     "name": "stdout",
     "output_type": "stream",
     "text": [
      "I am hi method\n"
     ]
    }
   ],
   "source": [
    "Hello.hi()"
   ]
  },
  {
   "cell_type": "code",
   "execution_count": null,
   "metadata": {},
   "outputs": [],
   "source": []
  },
  {
   "cell_type": "code",
   "execution_count": null,
   "metadata": {},
   "outputs": [],
   "source": [
    "## Object\n",
    "- Object is a physical Entity which follows the class\n",
    "- Object is a instance of class(sample copy of class)\n",
    "- It is a real Entity\n",
    "- Every object will have a certain attributes also behaviour\n",
    "- attributes /properties  ----> brand,fuel,color,wheel type\n",
    "\n",
    "- ex: human being\n",
    "    (height,weight,color,age,name)---->attributes /variables\n",
    "    (dancing,walking,talking,drinking) -----> behaviours ----->methods/funxtions\n",
    "    \n",
    "    \n",
    "    \n",
    "# Syn:\n",
    "\n",
    "objname=Classname"
   ]
  },
  {
   "cell_type": "code",
   "execution_count": 8,
   "metadata": {},
   "outputs": [],
   "source": [
    "# Class\n",
    "class Hello:\n",
    "    a=36.9\n",
    "    b=\"Vemu colg\"\n",
    "    def hello():    # method\n",
    "        print(\"I am a function method\")\n",
    "        \n",
    "    def hi():\n",
    "        print(\"I am hi method\")"
   ]
  },
  {
   "cell_type": "code",
   "execution_count": 12,
   "metadata": {},
   "outputs": [
    {
     "name": "stdout",
     "output_type": "stream",
     "text": [
      "['__class__', '__delattr__', '__dict__', '__dir__', '__doc__', '__eq__', '__format__', '__ge__', '__getattribute__', '__gt__', '__hash__', '__init__', '__init_subclass__', '__le__', '__lt__', '__module__', '__ne__', '__new__', '__reduce__', '__reduce_ex__', '__repr__', '__setattr__', '__sizeof__', '__str__', '__subclasshook__', '__weakref__', 'a', 'b', 'hello', 'hi']\n"
     ]
    }
   ],
   "source": [
    "print(dir(Hello))"
   ]
  },
  {
   "cell_type": "code",
   "execution_count": 10,
   "metadata": {},
   "outputs": [],
   "source": [
    "## object\n",
    "\n",
    "obj=Hello\n"
   ]
  },
  {
   "cell_type": "code",
   "execution_count": 11,
   "metadata": {},
   "outputs": [
    {
     "name": "stdout",
     "output_type": "stream",
     "text": [
      "['__class__', '__delattr__', '__dict__', '__dir__', '__doc__', '__eq__', '__format__', '__ge__', '__getattribute__', '__gt__', '__hash__', '__init__', '__init_subclass__', '__le__', '__lt__', '__module__', '__ne__', '__new__', '__reduce__', '__reduce_ex__', '__repr__', '__setattr__', '__sizeof__', '__str__', '__subclasshook__', '__weakref__', 'a', 'b', 'hello', 'hi']\n"
     ]
    }
   ],
   "source": [
    "print(dir(obj))"
   ]
  },
  {
   "cell_type": "code",
   "execution_count": 17,
   "metadata": {},
   "outputs": [
    {
     "name": "stdout",
     "output_type": "stream",
     "text": [
      "36.9\n",
      "Vemu colg\n",
      "I am hi method\n",
      "None\n",
      "I am a function method\n",
      "None\n"
     ]
    }
   ],
   "source": [
    "obj=Hello\n",
    "print(obj.a)\n",
    "print(obj.b)\n",
    "print(obj.hi())\n",
    "print(obj.hello())"
   ]
  },
  {
   "cell_type": "code",
   "execution_count": 18,
   "metadata": {},
   "outputs": [
    {
     "name": "stdout",
     "output_type": "stream",
     "text": [
      "36.9\n",
      "Vemu colg\n",
      "I am hi method\n",
      "None\n",
      "I am a function method\n",
      "None\n"
     ]
    }
   ],
   "source": [
    "obj1=Hello\n",
    "print(obj1.a)\n",
    "print(obj1.b)\n",
    "print(obj1.hi())\n",
    "print(obj1.hello())"
   ]
  },
  {
   "cell_type": "code",
   "execution_count": 20,
   "metadata": {},
   "outputs": [
    {
     "name": "stdout",
     "output_type": "stream",
     "text": [
      "36.9\n",
      "Vemu colg\n"
     ]
    },
    {
     "ename": "TypeError",
     "evalue": "hi() takes 0 positional arguments but 1 was given",
     "output_type": "error",
     "traceback": [
      "\u001b[1;31m---------------------------------------------------------------------------\u001b[0m",
      "\u001b[1;31mTypeError\u001b[0m                                 Traceback (most recent call last)",
      "\u001b[1;32m<ipython-input-20-42f69f5b5558>\u001b[0m in \u001b[0;36m<module>\u001b[1;34m\u001b[0m\n\u001b[0;32m      2\u001b[0m \u001b[0mprint\u001b[0m\u001b[1;33m(\u001b[0m\u001b[0mobj\u001b[0m\u001b[1;33m.\u001b[0m\u001b[0ma\u001b[0m\u001b[1;33m)\u001b[0m\u001b[1;33m\u001b[0m\u001b[1;33m\u001b[0m\u001b[0m\n\u001b[0;32m      3\u001b[0m \u001b[0mprint\u001b[0m\u001b[1;33m(\u001b[0m\u001b[0mobj\u001b[0m\u001b[1;33m.\u001b[0m\u001b[0mb\u001b[0m\u001b[1;33m)\u001b[0m\u001b[1;33m\u001b[0m\u001b[1;33m\u001b[0m\u001b[0m\n\u001b[1;32m----> 4\u001b[1;33m \u001b[0mprint\u001b[0m\u001b[1;33m(\u001b[0m\u001b[0mobj\u001b[0m\u001b[1;33m.\u001b[0m\u001b[0mhi\u001b[0m\u001b[1;33m(\u001b[0m\u001b[1;33m)\u001b[0m\u001b[1;33m)\u001b[0m\u001b[1;33m\u001b[0m\u001b[1;33m\u001b[0m\u001b[0m\n\u001b[0m",
      "\u001b[1;31mTypeError\u001b[0m: hi() takes 0 positional arguments but 1 was given"
     ]
    }
   ],
   "source": [
    "obj=Hello()\n",
    "print(obj.a)\n",
    "print(obj.b)\n",
    "print(obj.hi())"
   ]
  },
  {
   "cell_type": "code",
   "execution_count": 21,
   "metadata": {},
   "outputs": [],
   "source": [
    "class Calc:\n",
    "    def add(a,b):\n",
    "        return a+b\n",
    "    def sub(a,b):\n",
    "        return a-b\n",
    "    def mul(a,b):\n",
    "        return a*b"
   ]
  },
  {
   "cell_type": "code",
   "execution_count": 23,
   "metadata": {},
   "outputs": [
    {
     "name": "stdout",
     "output_type": "stream",
     "text": [
      "6\n",
      "-2\n",
      "8\n"
     ]
    }
   ],
   "source": [
    "myobj=Calc\n",
    "print(myobj.add(2,4))\n",
    "print(myobj.sub(2,4))\n",
    "print(myobj.mul(2,4))\n"
   ]
  },
  {
   "cell_type": "code",
   "execution_count": 26,
   "metadata": {},
   "outputs": [
    {
     "name": "stdout",
     "output_type": "stream",
     "text": [
      "i3 4gb 64gb\n"
     ]
    }
   ],
   "source": [
    "class Compu:\n",
    "    def config(self) :   # refence obj\n",
    "        print(\"i3\", \"4gb\", \"64gb\")\n",
    "        \n",
    "computer=Compu  # obj=class\n",
    "computer.config(\"con\")\n"
   ]
  },
  {
   "cell_type": "code",
   "execution_count": 28,
   "metadata": {},
   "outputs": [
    {
     "name": "stdout",
     "output_type": "stream",
     "text": [
      "i3 4gb 64gb\n"
     ]
    }
   ],
   "source": [
    "class Compu:\n",
    "    def config(self) :   # refence obj\n",
    "        print(\"i3\", \"4gb\", \"64gb\")\n",
    "        \n",
    "computer=Compu()  # obj=class\n",
    "computer.config()\n"
   ]
  },
  {
   "cell_type": "markdown",
   "metadata": {},
   "source": [
    "### Constructor\n",
    "\n",
    "- Constructor is a specia;l type of method (function with a class)\n",
    "- Which is used to initilize the instance member of a class\n",
    "- In python for creating constructors we will use __init__(self)\n",
    "- In constructor self is default perameter and finds the current reference object\n",
    "\n",
    "\n",
    "\n",
    "#### syn:\n",
    "\n",
    "class Classname:\n",
    "    def __init__(self) : --> here self is a default parameter\n",
    "    \n",
    "    def __init__(self,a,b,....): ----->  # self default parameter\n",
    "    def  __init__(a,self,b,...): --->   Here **a** is a defsult parameter\n",
    "    def __init__(b,a,self...): ----> Here \"b is a default"
   ]
  },
  {
   "cell_type": "code",
   "execution_count": 29,
   "metadata": {},
   "outputs": [
    {
     "name": "stdout",
     "output_type": "stream",
     "text": [
      "i3 4gb 16gb\n"
     ]
    }
   ],
   "source": [
    "class Compu:\n",
    "    def __init__(self):\n",
    "        print(\"I am a default constructer\")\n",
    "        \n",
    "    def config(self):\n",
    "        print( \"i3\" ,\"4gb\",\"16gb\")\n",
    "        \n",
    "        \n",
    "myobj1=Compu\n",
    "myobj1.config(1)"
   ]
  },
  {
   "cell_type": "code",
   "execution_count": 30,
   "metadata": {},
   "outputs": [
    {
     "name": "stdout",
     "output_type": "stream",
     "text": [
      "I am a default constructer\n"
     ]
    }
   ],
   "source": [
    "myobj1.__init__(1)"
   ]
  },
  {
   "cell_type": "code",
   "execution_count": 31,
   "metadata": {},
   "outputs": [
    {
     "name": "stdout",
     "output_type": "stream",
     "text": [
      "I am a default constructer\n"
     ]
    }
   ],
   "source": [
    "class Compu:\n",
    "    def __init__(self):\n",
    "        print(\"I am a default constructer\")\n",
    "        \n",
    "    def config(self):\n",
    "        print( \"i3\" ,\"4gb\",\"16gb\")\n",
    "        \n",
    "        \n",
    "myobj1=Compu()\n"
   ]
  },
  {
   "cell_type": "code",
   "execution_count": 32,
   "metadata": {},
   "outputs": [
    {
     "name": "stdout",
     "output_type": "stream",
     "text": [
      "I am a default constructer\n"
     ]
    }
   ],
   "source": [
    "myobj1.__init__()"
   ]
  },
  {
   "cell_type": "code",
   "execution_count": 33,
   "metadata": {},
   "outputs": [
    {
     "name": "stdout",
     "output_type": "stream",
     "text": [
      "36 i3 4gb\n"
     ]
    }
   ],
   "source": [
    "class Compu:\n",
    "    def __init__(self,cpu,ram):\n",
    "        self.cpu=cpu\n",
    "        self.ram=ram\n",
    "                \n",
    "    def config(self,a):\n",
    "        print(a,self.cpu,self.ram)\n",
    "        \n",
    "        \n",
    "myobj1=Compu(\"i3\",\"4gb\")\n",
    "myobj1.config(36)\n"
   ]
  },
  {
   "cell_type": "code",
   "execution_count": 35,
   "metadata": {},
   "outputs": [
    {
     "name": "stdout",
     "output_type": "stream",
     "text": [
      "36 i3 4gb\n"
     ]
    }
   ],
   "source": [
    "class Compu:\n",
    "    def __init__(cpu,ram,self):\n",
    "        cpu.ram=ram\n",
    "        cpu.self=self\n",
    "                \n",
    "    def config(cpu,a):\n",
    "        print(a,cpu.ram,cpu.self)\n",
    "        \n",
    "        \n",
    "myobj1=Compu(\"i3\",\"4gb\")\n",
    "myobj1.config(36)"
   ]
  },
  {
   "cell_type": "code",
   "execution_count": 40,
   "metadata": {},
   "outputs": [
    {
     "name": "stdout",
     "output_type": "stream",
     "text": [
      "2\n",
      "4\n",
      "11\n"
     ]
    }
   ],
   "source": [
    "class Math:\n",
    "    def __init__(abc,val1,val2):\n",
    "        abc.val1=val1\n",
    "        abc.val2=val2\n",
    "        \n",
    "    def show(abc):\n",
    "        print(abc.val1)\n",
    "        print(abc.val2)\n",
    "        \n",
    "    def add(abc,val3):\n",
    "        print(abc.val1+abc.val2+val3)\n",
    "        \n",
    "myobj4=Math(2,4)\n",
    "myobj4.show()\n",
    "myobj4.add(5)"
   ]
  },
  {
   "cell_type": "code",
   "execution_count": null,
   "metadata": {},
   "outputs": [],
   "source": []
  },
  {
   "cell_type": "markdown",
   "metadata": {},
   "source": [
    "## Inheritance\n",
    "\n",
    "- We can create a class which is uses all the properties and behaviour of another class\n",
    "- new class is called as child class/derivered class/sub class\n",
    "- already existed class is called as  parent class/ base class/ super class\n",
    "- reuseaubulity\n",
    "![image](inheritance.jpg)"
   ]
  },
  {
   "cell_type": "code",
   "execution_count": 41,
   "metadata": {},
   "outputs": [],
   "source": [
    "# Single Inheritance(one parent ,one child)\n",
    "\n",
    "class Parent():\n",
    "    a,b=10,20\n",
    "    def display():\n",
    "        print(\"I am From parent class\")\n",
    "        \n",
    "class Child(Parent):\n",
    "    c,d=30,40\n",
    "    def show():\n",
    "        print(\"I am child class\")"
   ]
  },
  {
   "cell_type": "code",
   "execution_count": 42,
   "metadata": {},
   "outputs": [
    {
     "name": "stdout",
     "output_type": "stream",
     "text": [
      "10\n",
      "20\n",
      "I am From parent class\n",
      "None\n"
     ]
    },
    {
     "ename": "AttributeError",
     "evalue": "type object 'Parent' has no attribute 'c'",
     "output_type": "error",
     "traceback": [
      "\u001b[1;31m---------------------------------------------------------------------------\u001b[0m",
      "\u001b[1;31mAttributeError\u001b[0m                            Traceback (most recent call last)",
      "\u001b[1;32m<ipython-input-42-891f07ca5276>\u001b[0m in \u001b[0;36m<module>\u001b[1;34m\u001b[0m\n\u001b[0;32m      3\u001b[0m \u001b[0mprint\u001b[0m\u001b[1;33m(\u001b[0m\u001b[0msI\u001b[0m\u001b[1;33m.\u001b[0m\u001b[0mb\u001b[0m\u001b[1;33m)\u001b[0m\u001b[1;33m\u001b[0m\u001b[1;33m\u001b[0m\u001b[0m\n\u001b[0;32m      4\u001b[0m \u001b[0mprint\u001b[0m\u001b[1;33m(\u001b[0m\u001b[0msI\u001b[0m\u001b[1;33m.\u001b[0m\u001b[0mdisplay\u001b[0m\u001b[1;33m(\u001b[0m\u001b[1;33m)\u001b[0m\u001b[1;33m)\u001b[0m\u001b[1;33m\u001b[0m\u001b[1;33m\u001b[0m\u001b[0m\n\u001b[1;32m----> 5\u001b[1;33m \u001b[0mprint\u001b[0m\u001b[1;33m(\u001b[0m\u001b[0msI\u001b[0m\u001b[1;33m.\u001b[0m\u001b[0mc\u001b[0m\u001b[1;33m)\u001b[0m\u001b[1;33m\u001b[0m\u001b[1;33m\u001b[0m\u001b[0m\n\u001b[0m\u001b[0;32m      6\u001b[0m \u001b[0mprint\u001b[0m\u001b[1;33m(\u001b[0m\u001b[0msI\u001b[0m\u001b[1;33m.\u001b[0m\u001b[0md\u001b[0m\u001b[1;33m)\u001b[0m\u001b[1;33m\u001b[0m\u001b[1;33m\u001b[0m\u001b[0m\n\u001b[0;32m      7\u001b[0m \u001b[0mprint\u001b[0m\u001b[1;33m(\u001b[0m\u001b[0msI\u001b[0m\u001b[1;33m.\u001b[0m\u001b[0mshow\u001b[0m\u001b[1;33m(\u001b[0m\u001b[1;33m)\u001b[0m\u001b[1;33m)\u001b[0m\u001b[1;33m\u001b[0m\u001b[1;33m\u001b[0m\u001b[0m\n",
      "\u001b[1;31mAttributeError\u001b[0m: type object 'Parent' has no attribute 'c'"
     ]
    }
   ],
   "source": [
    "sI=Parent\n",
    "print(sI.a)\n",
    "print(sI.b)\n",
    "print(sI.display())\n",
    "print(sI.c)\n",
    "print(sI.d)\n",
    "print(sI.show())\n",
    "      "
   ]
  },
  {
   "cell_type": "code",
   "execution_count": 43,
   "metadata": {},
   "outputs": [
    {
     "name": "stdout",
     "output_type": "stream",
     "text": [
      "10\n",
      "20\n",
      "I am From parent class\n",
      "None\n",
      "30\n",
      "40\n",
      "I am child class\n",
      "None\n"
     ]
    }
   ],
   "source": [
    "sI1=Child\n",
    "print(sI1.a)\n",
    "print(sI1.b)\n",
    "print(sI1.display())\n",
    "print(sI1.c)\n",
    "print(sI1.d)\n",
    "print(sI1.show())\n",
    "      "
   ]
  },
  {
   "cell_type": "code",
   "execution_count": 44,
   "metadata": {},
   "outputs": [],
   "source": [
    "## multiple Inheritance(2 parents,1 child)\n",
    "class Father():\n",
    "    def display():\n",
    "        print(\"Father\")\n",
    "        \n",
    "class Mother():\n",
    "    def display1():\n",
    "        print(\"Mother\")\n",
    "        \n",
    "class Child(Father,Mother):\n",
    "    def show():\n",
    "        print(\"child\")"
   ]
  },
  {
   "cell_type": "code",
   "execution_count": 45,
   "metadata": {},
   "outputs": [
    {
     "name": "stdout",
     "output_type": "stream",
     "text": [
      "child\n",
      "Father\n",
      "Mother\n"
     ]
    }
   ],
   "source": [
    "Multi_In=Child\n",
    "Multi_In.show()\n",
    "Multi_In.display()\n",
    "Multi_In.display1()\n"
   ]
  },
  {
   "cell_type": "code",
   "execution_count": 46,
   "metadata": {},
   "outputs": [
    {
     "name": "stdout",
     "output_type": "stream",
     "text": [
      "Father\n"
     ]
    },
    {
     "ename": "AttributeError",
     "evalue": "type object 'Father' has no attribute 'display1'",
     "output_type": "error",
     "traceback": [
      "\u001b[1;31m---------------------------------------------------------------------------\u001b[0m",
      "\u001b[1;31mAttributeError\u001b[0m                            Traceback (most recent call last)",
      "\u001b[1;32m<ipython-input-46-bb64ee97a2f5>\u001b[0m in \u001b[0;36m<module>\u001b[1;34m\u001b[0m\n\u001b[0;32m      1\u001b[0m \u001b[0mMulti_In\u001b[0m\u001b[1;33m=\u001b[0m\u001b[0mFather\u001b[0m\u001b[1;33m\u001b[0m\u001b[1;33m\u001b[0m\u001b[0m\n\u001b[0;32m      2\u001b[0m \u001b[0mMulti_In\u001b[0m\u001b[1;33m.\u001b[0m\u001b[0mdisplay\u001b[0m\u001b[1;33m(\u001b[0m\u001b[1;33m)\u001b[0m\u001b[1;33m\u001b[0m\u001b[1;33m\u001b[0m\u001b[0m\n\u001b[1;32m----> 3\u001b[1;33m \u001b[0mMulti_In\u001b[0m\u001b[1;33m.\u001b[0m\u001b[0mdisplay1\u001b[0m\u001b[1;33m(\u001b[0m\u001b[1;33m)\u001b[0m\u001b[1;33m\u001b[0m\u001b[1;33m\u001b[0m\u001b[0m\n\u001b[0m\u001b[0;32m      4\u001b[0m \u001b[0mMulti_In\u001b[0m\u001b[1;33m.\u001b[0m\u001b[0mshow\u001b[0m\u001b[1;33m(\u001b[0m\u001b[1;33m)\u001b[0m\u001b[1;33m\u001b[0m\u001b[1;33m\u001b[0m\u001b[0m\n\u001b[0;32m      5\u001b[0m \u001b[1;33m\u001b[0m\u001b[0m\n",
      "\u001b[1;31mAttributeError\u001b[0m: type object 'Father' has no attribute 'display1'"
     ]
    }
   ],
   "source": [
    "Multi_In=Father\n",
    "Multi_In.display()\n",
    "Multi_In.display1()\n",
    "Multi_In.show()\n",
    "\n"
   ]
  },
  {
   "cell_type": "code",
   "execution_count": 47,
   "metadata": {},
   "outputs": [
    {
     "name": "stdout",
     "output_type": "stream",
     "text": [
      "Mother\n"
     ]
    },
    {
     "ename": "AttributeError",
     "evalue": "type object 'Mother' has no attribute 'display'",
     "output_type": "error",
     "traceback": [
      "\u001b[1;31m---------------------------------------------------------------------------\u001b[0m",
      "\u001b[1;31mAttributeError\u001b[0m                            Traceback (most recent call last)",
      "\u001b[1;32m<ipython-input-47-65fa11928aa2>\u001b[0m in \u001b[0;36m<module>\u001b[1;34m\u001b[0m\n\u001b[0;32m      1\u001b[0m \u001b[0mMulti_In\u001b[0m\u001b[1;33m=\u001b[0m\u001b[0mMother\u001b[0m\u001b[1;33m\u001b[0m\u001b[1;33m\u001b[0m\u001b[0m\n\u001b[0;32m      2\u001b[0m \u001b[0mMulti_In\u001b[0m\u001b[1;33m.\u001b[0m\u001b[0mdisplay1\u001b[0m\u001b[1;33m(\u001b[0m\u001b[1;33m)\u001b[0m\u001b[1;33m\u001b[0m\u001b[1;33m\u001b[0m\u001b[0m\n\u001b[1;32m----> 3\u001b[1;33m \u001b[0mMulti_In\u001b[0m\u001b[1;33m.\u001b[0m\u001b[0mdisplay\u001b[0m\u001b[1;33m(\u001b[0m\u001b[1;33m)\u001b[0m\u001b[1;33m\u001b[0m\u001b[1;33m\u001b[0m\u001b[0m\n\u001b[0m\u001b[0;32m      4\u001b[0m \u001b[1;33m\u001b[0m\u001b[0m\n\u001b[0;32m      5\u001b[0m \u001b[0mMulti_In\u001b[0m\u001b[1;33m.\u001b[0m\u001b[0mshow\u001b[0m\u001b[1;33m(\u001b[0m\u001b[1;33m)\u001b[0m\u001b[1;33m\u001b[0m\u001b[1;33m\u001b[0m\u001b[0m\n",
      "\u001b[1;31mAttributeError\u001b[0m: type object 'Mother' has no attribute 'display'"
     ]
    }
   ],
   "source": [
    "Multi_In=Mother\n",
    "Multi_In.display1()\n",
    "Multi_In.display()\n",
    "\n",
    "Multi_In.show()\n",
    "\n"
   ]
  },
  {
   "cell_type": "code",
   "execution_count": 48,
   "metadata": {},
   "outputs": [
    {
     "name": "stdout",
     "output_type": "stream",
     "text": [
      "GF\n",
      "Father\n",
      "Child\n"
     ]
    }
   ],
   "source": [
    "# Multilevel Inheritence(GF,F,C)\n",
    "\n",
    "class GF():\n",
    "    def a():\n",
    "        print(\"GF\")\n",
    "        \n",
    "class Father(GF):\n",
    "    def b():\n",
    "        print(\"Father\")\n",
    "        \n",
    "class Child(Father):\n",
    "    def c():\n",
    "        print(\"Child\")\n",
    "        \n",
    "Multilevel=Child\n",
    "Multilevel.a()\n",
    "Multilevel.b()\n",
    "Multilevel.c()"
   ]
  },
  {
   "cell_type": "code",
   "execution_count": 49,
   "metadata": {},
   "outputs": [
    {
     "name": "stdout",
     "output_type": "stream",
     "text": [
      "GF\n",
      "Father\n"
     ]
    },
    {
     "ename": "AttributeError",
     "evalue": "type object 'Father' has no attribute 'c'",
     "output_type": "error",
     "traceback": [
      "\u001b[1;31m---------------------------------------------------------------------------\u001b[0m",
      "\u001b[1;31mAttributeError\u001b[0m                            Traceback (most recent call last)",
      "\u001b[1;32m<ipython-input-49-5f0153b46966>\u001b[0m in \u001b[0;36m<module>\u001b[1;34m\u001b[0m\n\u001b[0;32m      2\u001b[0m \u001b[0mMultilevel\u001b[0m\u001b[1;33m.\u001b[0m\u001b[0ma\u001b[0m\u001b[1;33m(\u001b[0m\u001b[1;33m)\u001b[0m\u001b[1;33m\u001b[0m\u001b[1;33m\u001b[0m\u001b[0m\n\u001b[0;32m      3\u001b[0m \u001b[0mMultilevel\u001b[0m\u001b[1;33m.\u001b[0m\u001b[0mb\u001b[0m\u001b[1;33m(\u001b[0m\u001b[1;33m)\u001b[0m\u001b[1;33m\u001b[0m\u001b[1;33m\u001b[0m\u001b[0m\n\u001b[1;32m----> 4\u001b[1;33m \u001b[0mMultilevel\u001b[0m\u001b[1;33m.\u001b[0m\u001b[0mc\u001b[0m\u001b[1;33m(\u001b[0m\u001b[1;33m)\u001b[0m\u001b[1;33m\u001b[0m\u001b[1;33m\u001b[0m\u001b[0m\n\u001b[0m",
      "\u001b[1;31mAttributeError\u001b[0m: type object 'Father' has no attribute 'c'"
     ]
    }
   ],
   "source": [
    "Multilevel=Father\n",
    "Multilevel.a()\n",
    "Multilevel.b()\n",
    "Multilevel.c()"
   ]
  },
  {
   "cell_type": "code",
   "execution_count": 50,
   "metadata": {},
   "outputs": [
    {
     "name": "stdout",
     "output_type": "stream",
     "text": [
      "GF\n"
     ]
    },
    {
     "ename": "AttributeError",
     "evalue": "type object 'GF' has no attribute 'b'",
     "output_type": "error",
     "traceback": [
      "\u001b[1;31m---------------------------------------------------------------------------\u001b[0m",
      "\u001b[1;31mAttributeError\u001b[0m                            Traceback (most recent call last)",
      "\u001b[1;32m<ipython-input-50-4c14db9c65b9>\u001b[0m in \u001b[0;36m<module>\u001b[1;34m\u001b[0m\n\u001b[0;32m      1\u001b[0m \u001b[0mMultilevel\u001b[0m\u001b[1;33m=\u001b[0m\u001b[0mGF\u001b[0m\u001b[1;33m\u001b[0m\u001b[1;33m\u001b[0m\u001b[0m\n\u001b[0;32m      2\u001b[0m \u001b[0mMultilevel\u001b[0m\u001b[1;33m.\u001b[0m\u001b[0ma\u001b[0m\u001b[1;33m(\u001b[0m\u001b[1;33m)\u001b[0m\u001b[1;33m\u001b[0m\u001b[1;33m\u001b[0m\u001b[0m\n\u001b[1;32m----> 3\u001b[1;33m \u001b[0mMultilevel\u001b[0m\u001b[1;33m.\u001b[0m\u001b[0mb\u001b[0m\u001b[1;33m(\u001b[0m\u001b[1;33m)\u001b[0m\u001b[1;33m\u001b[0m\u001b[1;33m\u001b[0m\u001b[0m\n\u001b[0m\u001b[0;32m      4\u001b[0m \u001b[0mMultilevel\u001b[0m\u001b[1;33m.\u001b[0m\u001b[0mc\u001b[0m\u001b[1;33m(\u001b[0m\u001b[1;33m)\u001b[0m\u001b[1;33m\u001b[0m\u001b[1;33m\u001b[0m\u001b[0m\n",
      "\u001b[1;31mAttributeError\u001b[0m: type object 'GF' has no attribute 'b'"
     ]
    }
   ],
   "source": [
    "Multilevel=GF\n",
    "Multilevel.a()\n",
    "Multilevel.b()\n",
    "Multilevel.c()"
   ]
  },
  {
   "cell_type": "code",
   "execution_count": null,
   "metadata": {},
   "outputs": [],
   "source": [
    "__init__\n",
    "__str__\n",
    "__del__"
   ]
  }
 ],
 "metadata": {
  "kernelspec": {
   "display_name": "Python 3",
   "language": "python",
   "name": "python3"
  },
  "language_info": {
   "codemirror_mode": {
    "name": "ipython",
    "version": 3
   },
   "file_extension": ".py",
   "mimetype": "text/x-python",
   "name": "python",
   "nbconvert_exporter": "python",
   "pygments_lexer": "ipython3",
   "version": "3.7.3"
  }
 },
 "nbformat": 4,
 "nbformat_minor": 2
}
