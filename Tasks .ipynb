{
 "cells": [
  {
   "cell_type": "markdown",
   "metadata": {},
   "source": [
    "## Conditionals Task"
   ]
  },
  {
   "cell_type": "code",
   "execution_count": 2,
   "metadata": {},
   "outputs": [
    {
     "name": "stdout",
     "output_type": "stream",
     "text": [
      "Enter number0\n",
      "ZERO\n"
     ]
    }
   ],
   "source": [
    "## Read a number from the user and print the positive number if given nummber is greater than zero\n",
    "# print -ve if given no is leass than 0\n",
    "# if user gave 0 ....It returns ZERO\n",
    "\n",
    "\n",
    "num2=int(input(\"Enter number\"))\n",
    "if num2>0:\n",
    "    print(\"POSITVE\")\n",
    "elif num2<0:\n",
    "    print(\"NEGATIVE\")\n",
    "else :\n",
    "    print(\"ZERO\")"
   ]
  },
  {
   "cell_type": "code",
   "execution_count": 10,
   "metadata": {},
   "outputs": [
    {
     "name": "stdout",
     "output_type": "stream",
     "text": [
      "Enter percentage60\n",
      "Grade is B+\n"
     ]
    }
   ],
   "source": [
    "## 1. Read 3 numbers from the user and find which is the largest number\n",
    "## write a program to check a character is vowel or not\n",
    "## aCCEPT THE pERCENTAGE fROM THE USER AND DISPLAY THE GRADES ACCORDING TO THE FOLLOWING\n",
    "\n",
    "#   - Below 25 -->D\n",
    "#   - 25 to 45 --> C\n",
    "#   - 45 to 50 --> B\n",
    "#   - 50 to 60 --> B+\n",
    "#   - 60 to 80 --> A\n",
    "#   - Above 80+ ---> A+ \n",
    "\n",
    "per = int(input(\"Enter percentage\"))\n",
    "if per> 80:\n",
    "     print(\"Grade is A+\")\n",
    "elif per >60 and per <=80:\n",
    "     print(\"Grade is A\")\n",
    "elif per > 50 and per <=60:\n",
    "     print(\"Grade is B+\")\n",
    "elif per > 45 and per <=50:\n",
    "     print(\"Grade is B\")\n",
    "elif per > 25 and per <=45:\n",
    "     print(\"Grade is C\")\n",
    "elif per <25:\n",
    "    print(\"Grade is D\")"
   ]
  },
  {
   "cell_type": "code",
   "execution_count": 9,
   "metadata": {},
   "outputs": [
    {
     "name": "stdout",
     "output_type": "stream",
     "text": [
      "Enter number of electric unit : 290\n",
      "Amount to pay : 1400\n"
     ]
    }
   ],
   "source": [
    "# ## 5.Acept the electric units from user and calculate the bill according  to following rates\n",
    "\n",
    "# First 100 units  : Free\n",
    "\n",
    "#     Next 200 units : 2 Rs per day\n",
    "#     Above 300 units : 5 rs per day \n",
    "        \n",
    "#         if number of units 500 then total bill = 0 +400+1000=1400\n",
    "        \n",
    "    \n",
    "    \n",
    "    \n",
    "amount=0\n",
    "nu=int(input(\"Enter number of electric unit : \"))\n",
    "if nu<=100:\n",
    "     amount=0\n",
    "if nu>100 and nu<=200:\n",
    "     amount=(nu-100)*5\n",
    "if nu>200:\n",
    "     amount=500+(nu-200)*10\n",
    "print(\"Amount to pay :\",amount)\n",
    "\n",
    "        "
   ]
  },
  {
   "cell_type": "code",
   "execution_count": null,
   "metadata": {},
   "outputs": [],
   "source": [
    "# ## 2 .A company decided to give bonus to employee according to following criteria\n",
    "# - Time period of service             Bonus\n",
    "#        > 10                           10%\n",
    "#        >=6 and <=10                   8%\n",
    "#     Less than 6 years                 5%\n",
    "    \n",
    "# Ask the user for their salary and yeras of services and print the bonus net amout\n",
    "\n",
    "\n",
    "ser=int(input(\"Enter the time period of service\"))\n",
    "sal =int(input(\"Enter your salary\"))\n",
    "if ser > 10:\n",
    "     b=10/100*sal\n",
    "if ser >=6 and ser <=10:\n",
    "     b = 8/100*sal\n",
    "if ser < 6:\n",
    "    b = 5/100*sal\n",
    "print(\"Bonus is \", b)\n",
    "\n"
   ]
  },
  {
   "cell_type": "code",
   "execution_count": 11,
   "metadata": {},
   "outputs": [
    {
     "name": "stdout",
     "output_type": "stream",
     "text": [
      "Enter first number3\n",
      "Enter second number6\n",
      "Enter mathematical operator+\n",
      "Result is  9\n"
     ]
    }
   ],
   "source": [
    "## 3 .Write a program to accept two nukmbers\n",
    "# and mathematical operators and perform accordindly\n",
    "\n",
    "num1=int(input(\"Enter first number\"))\n",
    "\n",
    "num2=int(input(\"Enter second number\"))\n",
    "\n",
    "op=input(\"Enter mathematical operator\")\n",
    "\n",
    "if op=='+':\n",
    "\n",
    "     print(\"Result is \", num1+num2)\n",
    "\n",
    "if op=='-':\n",
    "\n",
    "    print(\"Result is \", num1-num2)\n",
    "\n",
    "if op=='*':\n",
    "\n",
    "    print(\"Result is \", num1*num2)\n",
    "\n",
    "if op=='/':\n",
    "\n",
    "    print(\"Result is \", num1/num2)\n",
    "\n",
    "if op=='%':\n",
    "\n",
    "    print(\"Result is \", num1%num2)\n",
    "\n",
    "if op=='**':\n",
    "\n",
    "    print(\"Result is \", num1**num2)\n",
    "\n",
    "if op=='//':\n",
    "\n",
    "    print(\"Result is \", num1//num2)"
   ]
  },
  {
   "cell_type": "code",
   "execution_count": 13,
   "metadata": {},
   "outputs": [
    {
     "name": "stdout",
     "output_type": "stream",
     "text": [
      "Enter your age29\n",
      "Enter sex(M/F) F\n",
      "Enter number of days30\n",
      "Total wages is :  28500\n"
     ]
    }
   ],
   "source": [
    "# ## 4. Accept the age ,gender(\"M\",\"F\"),number of days and display the wages accordingly\n",
    "\n",
    "# Age                Gender      Wage/daily\n",
    "\n",
    "\n",
    "# >=18 and<30        M            900\n",
    "#                    F            950\n",
    "    \n",
    "    \n",
    "# >=30 and <=40       M           1000\n",
    "#                     F           1050\n",
    "\n",
    "# If age doesnot fall in any range then display the following message  \"Enter apporoprate age\"\n",
    "\n",
    "age=int(input(\"Enter your age\"))\n",
    "sex=input(\"Enter sex(M/F) \")\n",
    "nd = int(input(\"Enter number of days\"))\n",
    "if age >=18 and age < 30 and sex.upper( ) == 'M':\n",
    "     amt = nd*900\n",
    "     print(\"Total wages is : \", amt)\n",
    "elif age >=18 and age < 30 and sex.upper( ) == 'F':\n",
    "     amt = nd*950\n",
    "     print(\"Total wages is : \", amt)\n",
    "elif age >=30 and age <= 40 and sex.upper( ) == 'M':\n",
    "     amt = nd * 1000\n",
    "     print(\"Total wages is : \", amt)\n",
    "elif age >=30 and age <= 40 and sex.upper( ) == 'F':\n",
    "     amt = nd * 1050\n",
    "     print(\"Total wages is : \", amt)\n",
    "else:\n",
    "     print(\"Enter appropriate age\")"
   ]
  },
  {
   "cell_type": "code",
   "execution_count": 15,
   "metadata": {},
   "outputs": [
    {
     "name": "stdout",
     "output_type": "stream",
     "text": [
      "Enter number of units400\n",
      "Total amount to pay is  900\n"
     ]
    }
   ],
   "source": [
    "## 5.Acept the electric units from user and calculate the bill according  to following rates\n",
    "\n",
    "# First 100 units  : Free\n",
    "\n",
    "#     Next 200 units : 2 Rs per day\n",
    "#     Above 300 units : 5 rs per day \n",
    "        \n",
    "#         if number of units 500 then total bill = 0 +400+1000=1400\n",
    "\n",
    "\n",
    "\n",
    "ut = int(input(\"Enter number of units\"))\n",
    "\n",
    "if ut <=100:\n",
    "\n",
    "     amt = 0\n",
    "\n",
    "elif ut >100 and ut <= 300:\n",
    "\n",
    "     amt = (ut-100) *2\n",
    "\n",
    "else:\n",
    "\n",
    "     amt = 400 + (ut - 300)*5\n",
    "\n",
    "print(\"Total amount to pay is \", amt)\n",
    "        "
   ]
  },
  {
   "cell_type": "code",
   "execution_count": null,
   "metadata": {},
   "outputs": [],
   "source": [
    "# WAP to accept 10 numbers from the user  and add in the given list\n",
    "\n",
    "    # mylist=[36,29,13,78,25]\n",
    "    \n",
    "    \n"
   ]
  }
 ],
 "metadata": {
  "kernelspec": {
   "display_name": "Python 3",
   "language": "python",
   "name": "python3"
  },
  "language_info": {
   "codemirror_mode": {
    "name": "ipython",
    "version": 3
   },
   "file_extension": ".py",
   "mimetype": "text/x-python",
   "name": "python",
   "nbconvert_exporter": "python",
   "pygments_lexer": "ipython3",
   "version": "3.7.3"
  }
 },
 "nbformat": 4,
 "nbformat_minor": 2
}
