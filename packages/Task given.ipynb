{
 "cells": [
  {
   "cell_type": "code",
   "execution_count": null,
   "metadata": {},
   "outputs": [],
   "source": [
    "# Regular Expression \n",
    "\n",
    "# Task1: Phone number validation\n",
    "\n",
    "\n",
    "# [9] -1   9 --[1234567890]{9}\n",
    "\n",
    "\n",
    "# [9]{1}\n",
    "\n",
    "\n",
    "\n",
    "# ^[6-9][0-9]{9}$    ----> logic1\n",
    "# ^[+][9][1][6-9][0-9]{9}$\n",
    "\n",
    "\n"
   ]
  },
  {
   "cell_type": "code",
   "execution_count": null,
   "metadata": {},
   "outputs": [],
   "source": [
    "import re\n",
    "phonenumber=input(\"Enter your mobile number :  \")\n",
    "pattern= \"^[6-9][0-9]{9}$|^[+][9][1][6-9][0-9]{9}$\"\n",
    "if re.match(pattern,phonenumber):\n",
    "    print(\"valid\")\n",
    "    \n",
    "else:\n",
    "    print(\"Invalid\")"
   ]
  },
  {
   "cell_type": "code",
   "execution_count": null,
   "metadata": {},
   "outputs": [],
   "source": [
    "## email validator\n",
    "\n",
    "# username@domain.extension\n",
    "# indupriya.p@apssdc.in\n",
    "# indupriya@gmail.com\n",
    "\n",
    "# rules\n",
    "# no capital ,no starts with special characters\n",
    "#{5-15} as limit\n",
    "# [@]\n",
    "# domain ---> all alphabets ,small---->[3-10]\n",
    "#[.]\n",
    "# extension ---->[2-5]"
   ]
  },
  {
   "cell_type": "code",
   "execution_count": 6,
   "metadata": {},
   "outputs": [
    {
     "name": "stdout",
     "output_type": "stream",
     "text": [
      "Enter a Email prudhvikaranam182@gmail.com\n",
      "valid email\n"
     ]
    }
   ],
   "source": [
    "import re\n",
    "email=input(\"Enter a Email \")\n",
    "pattern= \"^[0-9a-z][0-9a-z_.]{5,20}[@][a-z]{3,10}[.][a-z]{2,5}$\"\n",
    "if re.match(pattern,email):\n",
    "    print(\"valid email\")\n",
    "else:\n",
    "    print(\"Invalid Email\")"
   ]
  },
  {
   "cell_type": "code",
   "execution_count": null,
   "metadata": {},
   "outputs": [],
   "source": [
    "# pattern= \"^[0-9a-z][0-9a-z_.]{5,15}[@][a-z]{3,10}[.][a-z]{2,5}$\"\""
   ]
  }
 ],
 "metadata": {
  "kernelspec": {
   "display_name": "Python 3",
   "language": "python",
   "name": "python3"
  },
  "language_info": {
   "codemirror_mode": {
    "name": "ipython",
    "version": 3
   },
   "file_extension": ".py",
   "mimetype": "text/x-python",
   "name": "python",
   "nbconvert_exporter": "python",
   "pygments_lexer": "ipython3",
   "version": "3.7.3"
  }
 },
 "nbformat": 4,
 "nbformat_minor": 2
}
